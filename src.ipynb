{
 "cells": [
  {
   "cell_type": "code",
   "execution_count": 2,
   "metadata": {},
   "outputs": [
    {
     "output_type": "stream",
     "name": "stderr",
     "text": [
      "/Users/peanutzhen/Desktop/projects/techHW/venv/lib/python3.9/site-packages/IPython/core/interactiveshell.py:3169: DtypeWarning: Columns (29) have mixed types.Specify dtype option on import or set low_memory=False.\n",
      "  has_raised = await self.run_ast_nodes(code_ast.body, cell_name,\n",
      "Total data: 800000\n"
     ]
    }
   ],
   "source": [
    "### 加载数据\n",
    "import pandas\n",
    "import pickle\n",
    "import numpy\n",
    "from pyecharts.charts import Bar\n",
    "from pyecharts.charts import Pie\n",
    "from pyecharts import options as opts\n",
    "\n",
    "SAVE_DATA = False\n",
    "dataset = pandas.read_csv('dataset.csv')\n",
    "print(f'Total data: {dataset.shape[0]}')"
   ]
  },
  {
   "cell_type": "code",
   "execution_count": 3,
   "metadata": {
    "pycharm": {
     "name": "#%%\n"
    }
   },
   "outputs": [
    {
     "output_type": "stream",
     "name": "stdout",
     "text": [
      "Data cleaning completed！Total:\n750841\n"
     ]
    }
   ],
   "source": [
    "### 清洗数据\n",
    "# 洗掉不必要的列\n",
    "data = dataset.drop(\n",
    "    [\n",
    "        'Unnamed: 0',\n",
    "        '提交答卷时间',\n",
    "        '所用时间',\n",
    "        '来源',\n",
    "        '来源详情',\n",
    "        '来自IP',\n",
    "        '1、请问您的学校所在地区和类别：'\n",
    "    ],\n",
    "    axis=1\n",
    ")\n",
    "\n",
    "# 列名含义，接下来使用下标访问\n",
    "COLS_NAME = data.columns.values.tolist()\n",
    "data.columns = [idx for idx in range(len(COLS_NAME))]\n",
    "\n",
    "# 地区有两个-3的异常值 清洗\n",
    "data = data[data[91] != -3]\n",
    "\n",
    "# 14题数据为1or2 因此全体-1 统一处理\n",
    "data.iloc[:,53:58] = data.iloc[:,53:58] - 1\n",
    "\n",
    "# 线上学习时间有错误值及空值 0~15\n",
    "data = data[data[22].isin([x for x in range(16)])].astype(int)\n",
    "\n",
    "# 输出最后行数\n",
    "print(f'Data cleaning completed！Total:\\n{data.shape[0]}')"
   ]
  },
  {
   "cell_type": "code",
   "execution_count": 4,
   "metadata": {
    "pycharm": {
     "name": "#%%\n"
    }
   },
   "outputs": [],
   "source": [
    "# 导出数据csv\n",
    "if SAVE_DATA:\n",
    "    data.to_csv('./cooked.csv')\n",
    "    with open('./COLS_NAME.dat', 'wb') as f:\n",
    "        pickle.dump(COLS_NAME, f)"
   ]
  },
  {
   "cell_type": "code",
   "execution_count": 5,
   "metadata": {},
   "outputs": [],
   "source": [
    "# 富文本饼图设置\n",
    "PIE_SETTINGS = opts.LabelOpts(\n",
    "    position=\"outside\",\n",
    "    formatter=\"{b|{b}: }{per|{d}%}  \",\n",
    "    background_color=\"#eee\",\n",
    "    border_color=\"#aaa\",\n",
    "    border_width=1,\n",
    "    border_radius=4,\n",
    "    rich={\n",
    "        \"a\": {\"color\": \"#999\", \"lineHeight\": 22, \"align\": \"center\"},\n",
    "        \"abg\": {\n",
    "            \"backgroundColor\": \"#e3e3e3\",\n",
    "            \"width\": \"100%\",\n",
    "            \"align\": \"right\",\n",
    "            \"height\": 22,\n",
    "            \"borderRadius\": [4, 4, 0, 0],\n",
    "        },\n",
    "        \"hr\": {\n",
    "            \"borderColor\": \"#aaa\",\n",
    "            \"width\": \"100%\",\n",
    "            \"borderWidth\": 0.5,\n",
    "            \"height\": 0,\n",
    "        },\n",
    "        \"b\": {\"fontSize\": 16, \"lineHeight\": 33},\n",
    "        \"per\": {\n",
    "            \"color\": \"#eee\",\n",
    "            \"backgroundColor\": \"#334455\",\n",
    "            \"padding\": [2, 4],\n",
    "            \"borderRadius\": 2,\n",
    "        },\n",
    "    },\n",
    ")"
   ]
  },
  {
   "cell_type": "code",
   "execution_count": 6,
   "metadata": {
    "pycharm": {
     "name": "#%%\n"
    }
   },
   "outputs": [
    {
     "output_type": "execute_result",
     "data": {
      "text/plain": [
       "<pyecharts.render.display.HTML at 0x11cf2bd00>"
      ],
      "text/html": "\n<script>\n    require.config({\n        paths: {\n            'echarts':'https://assets.pyecharts.org/assets/echarts.min'\n        }\n    });\n</script>\n\n        <div id=\"02e88f1d771849299674692ce5fe7875\" style=\"width:900px; height:500px;\"></div>\n\n<script>\n        require(['echarts'], function(echarts) {\n                var chart_02e88f1d771849299674692ce5fe7875 = echarts.init(\n                    document.getElementById('02e88f1d771849299674692ce5fe7875'), 'white', {renderer: 'canvas'});\n                var option_02e88f1d771849299674692ce5fe7875 = {\n    \"animation\": true,\n    \"animationThreshold\": 2000,\n    \"animationDuration\": 1000,\n    \"animationEasing\": \"cubicOut\",\n    \"animationDelay\": 0,\n    \"animationDurationUpdate\": 300,\n    \"animationEasingUpdate\": \"cubicOut\",\n    \"animationDelayUpdate\": 0,\n    \"color\": [\n        \"#c23531\",\n        \"#2f4554\",\n        \"#61a0a8\",\n        \"#d48265\",\n        \"#749f83\",\n        \"#ca8622\",\n        \"#bda29a\",\n        \"#6e7074\",\n        \"#546570\",\n        \"#c4ccd3\",\n        \"#f05b72\",\n        \"#ef5b9c\",\n        \"#f47920\",\n        \"#905a3d\",\n        \"#fab27b\",\n        \"#2a5caa\",\n        \"#444693\",\n        \"#726930\",\n        \"#b2d235\",\n        \"#6d8346\",\n        \"#ac6767\",\n        \"#1d953f\",\n        \"#6950a1\",\n        \"#918597\"\n    ],\n    \"series\": [\n        {\n            \"type\": \"bar\",\n            \"name\": \"\\u95ee\\u5377\\u4eba\\u6570\",\n            \"legendHoverLink\": true,\n            \"data\": [\n                64152,\n                64610,\n                65743,\n                71080,\n                75424,\n                75457,\n                74840,\n                70469,\n                66845,\n                46583,\n                41541,\n                34097\n            ],\n            \"showBackground\": false,\n            \"barMinHeight\": 0,\n            \"barCategoryGap\": \"20%\",\n            \"barGap\": \"30%\",\n            \"large\": false,\n            \"largeThreshold\": 400,\n            \"seriesLayoutBy\": \"column\",\n            \"datasetIndex\": 0,\n            \"clip\": true,\n            \"zlevel\": 0,\n            \"z\": 2,\n            \"label\": {\n                \"show\": true,\n                \"position\": \"top\",\n                \"margin\": 8\n            }\n        }\n    ],\n    \"legend\": [\n        {\n            \"data\": [\n                \"\\u95ee\\u5377\\u4eba\\u6570\"\n            ],\n            \"selected\": {\n                \"\\u95ee\\u5377\\u4eba\\u6570\": true\n            },\n            \"show\": true,\n            \"padding\": 5,\n            \"itemGap\": 10,\n            \"itemWidth\": 25,\n            \"itemHeight\": 14\n        }\n    ],\n    \"tooltip\": {\n        \"show\": true,\n        \"trigger\": \"item\",\n        \"triggerOn\": \"mousemove|click\",\n        \"axisPointer\": {\n            \"type\": \"line\"\n        },\n        \"showContent\": true,\n        \"alwaysShowContent\": false,\n        \"showDelay\": 0,\n        \"hideDelay\": 100,\n        \"textStyle\": {\n            \"fontSize\": 14\n        },\n        \"borderWidth\": 0,\n        \"padding\": 5\n    },\n    \"xAxis\": [\n        {\n            \"show\": true,\n            \"scale\": false,\n            \"nameLocation\": \"end\",\n            \"nameGap\": 15,\n            \"gridIndex\": 0,\n            \"inverse\": false,\n            \"offset\": 0,\n            \"splitNumber\": 5,\n            \"minInterval\": 0,\n            \"splitLine\": {\n                \"show\": false,\n                \"lineStyle\": {\n                    \"show\": true,\n                    \"width\": 1,\n                    \"opacity\": 1,\n                    \"curveness\": 0,\n                    \"type\": \"solid\"\n                }\n            },\n            \"data\": [\n                \"\\u4e00\\u5e74\\u7ea7\",\n                \"\\u4e8c\\u5e74\\u7ea7\",\n                \"\\u4e09\\u5e74\\u7ea7\",\n                \"\\u56db\\u5e74\\u7ea7\",\n                \"\\u4e94\\u5e74\\u7ea7\",\n                \"\\u516d\\u5e74\\u7ea7\",\n                \"\\u521d\\u4e00\",\n                \"\\u521d\\u4e8c\",\n                \"\\u521d\\u4e09\",\n                \"\\u9ad8\\u4e00\",\n                \"\\u9ad8\\u4e8c\",\n                \"\\u9ad8\\u4e09\"\n            ]\n        }\n    ],\n    \"yAxis\": [\n        {\n            \"show\": true,\n            \"scale\": false,\n            \"nameLocation\": \"end\",\n            \"nameGap\": 15,\n            \"gridIndex\": 0,\n            \"inverse\": false,\n            \"offset\": 0,\n            \"splitNumber\": 5,\n            \"minInterval\": 0,\n            \"splitLine\": {\n                \"show\": false,\n                \"lineStyle\": {\n                    \"show\": true,\n                    \"width\": 1,\n                    \"opacity\": 1,\n                    \"curveness\": 0,\n                    \"type\": \"solid\"\n                }\n            }\n        }\n    ],\n    \"title\": [\n        {\n            \"text\": \"\\u5b66\\u751f\\u7684\\u5e74\\u7ea7\\u5206\\u5e03\",\n            \"padding\": 5,\n            \"itemGap\": 10\n        }\n    ]\n};\n                chart_02e88f1d771849299674692ce5fe7875.setOption(option_02e88f1d771849299674692ce5fe7875);\n        });\n    </script>\n"
     },
     "metadata": {},
     "execution_count": 6
    }
   ],
   "source": [
    "# 分析参加调查的学生的年级分布（输出柱状图）\n",
    "res = [0 for _ in range(12)]\n",
    "for _, grade in data[1].items():\n",
    "    res[grade-1] = res[grade-1] + 1\n",
    "\n",
    "bar = (\n",
    "    Bar()\n",
    "    .add_xaxis([\"一年级\", \"二年级\", \"三年级\", \"四年级\", \"五年级\", \"六年级\", \"初一\", \"初二\", \"初三\", \"高一\", \"高二\", \"高三\"])\n",
    "    .add_yaxis(\"问卷人数\", res)\n",
    "    .set_global_opts(\n",
    "        title_opts=opts.TitleOpts(title=\"学生的年级分布\"),\n",
    "        legend_opts=opts.LegendOpts(is_show=True)\n",
    "    )\n",
    ")\n",
    "bar.render_notebook()"
   ]
  },
  {
   "cell_type": "code",
   "execution_count": 7,
   "metadata": {},
   "outputs": [
    {
     "output_type": "execute_result",
     "data": {
      "text/plain": [
       "<pyecharts.render.display.HTML at 0x1339f54f0>"
      ],
      "text/html": "\n<script>\n    require.config({\n        paths: {\n            'echarts':'https://assets.pyecharts.org/assets/echarts.min'\n        }\n    });\n</script>\n\n        <div id=\"e92ffb19f14841548573cb2fafad4e83\" style=\"width:900px; height:500px;\"></div>\n\n<script>\n        require(['echarts'], function(echarts) {\n                var chart_e92ffb19f14841548573cb2fafad4e83 = echarts.init(\n                    document.getElementById('e92ffb19f14841548573cb2fafad4e83'), 'white', {renderer: 'canvas'});\n                var option_e92ffb19f14841548573cb2fafad4e83 = {\n    \"animation\": true,\n    \"animationThreshold\": 2000,\n    \"animationDuration\": 1000,\n    \"animationEasing\": \"cubicOut\",\n    \"animationDelay\": 0,\n    \"animationDurationUpdate\": 300,\n    \"animationEasingUpdate\": \"cubicOut\",\n    \"animationDelayUpdate\": 0,\n    \"color\": [\n        \"#c23531\",\n        \"#2f4554\",\n        \"#61a0a8\",\n        \"#d48265\",\n        \"#749f83\",\n        \"#ca8622\",\n        \"#bda29a\",\n        \"#6e7074\",\n        \"#546570\",\n        \"#c4ccd3\",\n        \"#f05b72\",\n        \"#ef5b9c\",\n        \"#f47920\",\n        \"#905a3d\",\n        \"#fab27b\",\n        \"#2a5caa\",\n        \"#444693\",\n        \"#726930\",\n        \"#b2d235\",\n        \"#6d8346\",\n        \"#ac6767\",\n        \"#1d953f\",\n        \"#6950a1\",\n        \"#918597\"\n    ],\n    \"series\": [\n        {\n            \"type\": \"pie\",\n            \"clockwise\": true,\n            \"data\": [\n                {\n                    \"name\": \"\\u7535\\u89c6\",\n                    \"value\": 0.1031940523370096\n                },\n                {\n                    \"name\": \"\\u53f0\\u5f0f\\u7535\\u8111\",\n                    \"value\": 0.15628139477635275\n                },\n                {\n                    \"name\": \"\\u5e73\\u677f\",\n                    \"value\": 0.10111677618569223\n                },\n                {\n                    \"name\": \"\\u624b\\u673a\",\n                    \"value\": 0.4768952927148225\n                },\n                {\n                    \"name\": \"\\u97f3\\u9891\",\n                    \"value\": 0.026266824273526262\n                },\n                {\n                    \"name\": \"\\u7eb8\\u8d28\\u5b66\\u4e60\\u8d44\\u6599\",\n                    \"value\": 0.13624565971259664\n                }\n            ],\n            \"radius\": [\n                \"40%\",\n                \"55%\"\n            ],\n            \"center\": [\n                \"50%\",\n                \"50%\"\n            ],\n            \"label\": {\n                \"show\": true,\n                \"position\": \"outside\",\n                \"margin\": 8,\n                \"formatter\": \"{b|{b}: }{per|{d}%}  \",\n                \"backgroundColor\": \"#eee\",\n                \"borderColor\": \"#aaa\",\n                \"borderWidth\": 1,\n                \"borderRadius\": 4,\n                \"rich\": {\n                    \"a\": {\n                        \"color\": \"#999\",\n                        \"lineHeight\": 22,\n                        \"align\": \"center\"\n                    },\n                    \"abg\": {\n                        \"backgroundColor\": \"#e3e3e3\",\n                        \"width\": \"100%\",\n                        \"align\": \"right\",\n                        \"height\": 22,\n                        \"borderRadius\": [\n                            4,\n                            4,\n                            0,\n                            0\n                        ]\n                    },\n                    \"hr\": {\n                        \"borderColor\": \"#aaa\",\n                        \"width\": \"100%\",\n                        \"borderWidth\": 0.5,\n                        \"height\": 0\n                    },\n                    \"b\": {\n                        \"fontSize\": 16,\n                        \"lineHeight\": 33\n                    },\n                    \"per\": {\n                        \"color\": \"#eee\",\n                        \"backgroundColor\": \"#334455\",\n                        \"padding\": [\n                            2,\n                            4\n                        ],\n                        \"borderRadius\": 2\n                    }\n                }\n            }\n        }\n    ],\n    \"legend\": [\n        {\n            \"data\": [\n                \"\\u7535\\u89c6\",\n                \"\\u53f0\\u5f0f\\u7535\\u8111\",\n                \"\\u5e73\\u677f\",\n                \"\\u624b\\u673a\",\n                \"\\u97f3\\u9891\",\n                \"\\u7eb8\\u8d28\\u5b66\\u4e60\\u8d44\\u6599\"\n            ],\n            \"selected\": {},\n            \"show\": true,\n            \"padding\": 5,\n            \"itemGap\": 10,\n            \"itemWidth\": 25,\n            \"itemHeight\": 14\n        }\n    ],\n    \"tooltip\": {\n        \"show\": true,\n        \"trigger\": \"item\",\n        \"triggerOn\": \"mousemove|click\",\n        \"axisPointer\": {\n            \"type\": \"line\"\n        },\n        \"showContent\": true,\n        \"alwaysShowContent\": false,\n        \"showDelay\": 0,\n        \"hideDelay\": 100,\n        \"textStyle\": {\n            \"fontSize\": 14\n        },\n        \"borderWidth\": 0,\n        \"padding\": 5\n    },\n    \"title\": [\n        {\n            \"text\": \"\\u5b66\\u751f\\u4e0a\\u8bfe\\u8bbe\\u5907\\u4f7f\\u7528\\u60c5\\u51b5\\u7edf\\u8ba1\",\n            \"padding\": 5,\n            \"itemGap\": 10\n        }\n    ]\n};\n                chart_e92ffb19f14841548573cb2fafad4e83.setOption(option_e92ffb19f14841548573cb2fafad4e83);\n        });\n    </script>\n"
     },
     "metadata": {},
     "execution_count": 7
    }
   ],
   "source": [
    "# 统计学生使用设备情况\n",
    "keys = ['电视', '台式电脑', '平板', '手机', '音频', '纸质学习资料']\n",
    "res = [data[idx].value_counts()[1] for idx in range(2,8)]\n",
    "res = numpy.array(res)\n",
    "res = res / res.sum()\n",
    "res = [list(x) for x in zip(keys, res)]\n",
    "\n",
    "pie = (\n",
    "    Pie()\n",
    "    .add(\n",
    "        \"\",\n",
    "        res,\n",
    "        radius=[\"40%\", \"55%\"],\n",
    "        label_opts=PIE_SETTINGS\n",
    "    )\n",
    "    .set_global_opts(title_opts=opts.TitleOpts(title=\"学生上课设备使用情况统计\"))\n",
    ")\n",
    "pie.render_notebook()"
   ]
  },
  {
   "cell_type": "code",
   "execution_count": 8,
   "metadata": {},
   "outputs": [
    {
     "output_type": "execute_result",
     "data": {
      "text/plain": [
       "<pyecharts.render.display.HTML at 0x1280f3160>"
      ],
      "text/html": "\n<script>\n    require.config({\n        paths: {\n            'echarts':'https://assets.pyecharts.org/assets/echarts.min'\n        }\n    });\n</script>\n\n        <div id=\"ec7621fb5c514c678ad21085f0fdcf60\" style=\"width:900px; height:500px;\"></div>\n\n<script>\n        require(['echarts'], function(echarts) {\n                var chart_ec7621fb5c514c678ad21085f0fdcf60 = echarts.init(\n                    document.getElementById('ec7621fb5c514c678ad21085f0fdcf60'), 'white', {renderer: 'canvas'});\n                var option_ec7621fb5c514c678ad21085f0fdcf60 = {\n    \"animation\": true,\n    \"animationThreshold\": 2000,\n    \"animationDuration\": 1000,\n    \"animationEasing\": \"cubicOut\",\n    \"animationDelay\": 0,\n    \"animationDurationUpdate\": 300,\n    \"animationEasingUpdate\": \"cubicOut\",\n    \"animationDelayUpdate\": 0,\n    \"color\": [\n        \"#c23531\",\n        \"#2f4554\",\n        \"#61a0a8\",\n        \"#d48265\",\n        \"#749f83\",\n        \"#ca8622\",\n        \"#bda29a\",\n        \"#6e7074\",\n        \"#546570\",\n        \"#c4ccd3\",\n        \"#f05b72\",\n        \"#ef5b9c\",\n        \"#f47920\",\n        \"#905a3d\",\n        \"#fab27b\",\n        \"#2a5caa\",\n        \"#444693\",\n        \"#726930\",\n        \"#b2d235\",\n        \"#6d8346\",\n        \"#ac6767\",\n        \"#1d953f\",\n        \"#6950a1\",\n        \"#918597\"\n    ],\n    \"series\": [\n        {\n            \"type\": \"bar\",\n            \"name\": \"\\u4f7f\\u7528\\u4eba\\u6570\",\n            \"legendHoverLink\": true,\n            \"data\": [\n                523619,\n                614682,\n                205803,\n                132917,\n                369300,\n                230616,\n                458726,\n                221314,\n                314978,\n                25556,\n                71182,\n                94203\n            ],\n            \"showBackground\": false,\n            \"barMinHeight\": 0,\n            \"barCategoryGap\": \"20%\",\n            \"barGap\": \"30%\",\n            \"large\": false,\n            \"largeThreshold\": 400,\n            \"seriesLayoutBy\": \"column\",\n            \"datasetIndex\": 0,\n            \"clip\": true,\n            \"zlevel\": 0,\n            \"z\": 2,\n            \"label\": {\n                \"show\": true,\n                \"position\": \"top\",\n                \"margin\": 8\n            }\n        }\n    ],\n    \"legend\": [\n        {\n            \"data\": [\n                \"\\u4f7f\\u7528\\u4eba\\u6570\"\n            ],\n            \"selected\": {\n                \"\\u4f7f\\u7528\\u4eba\\u6570\": true\n            },\n            \"show\": true,\n            \"padding\": 5,\n            \"itemGap\": 10,\n            \"itemWidth\": 25,\n            \"itemHeight\": 14\n        }\n    ],\n    \"tooltip\": {\n        \"show\": true,\n        \"trigger\": \"item\",\n        \"triggerOn\": \"mousemove|click\",\n        \"axisPointer\": {\n            \"type\": \"line\"\n        },\n        \"showContent\": true,\n        \"alwaysShowContent\": false,\n        \"showDelay\": 0,\n        \"hideDelay\": 100,\n        \"textStyle\": {\n            \"fontSize\": 14\n        },\n        \"borderWidth\": 0,\n        \"padding\": 5\n    },\n    \"xAxis\": [\n        {\n            \"show\": true,\n            \"scale\": false,\n            \"nameLocation\": \"end\",\n            \"nameGap\": 15,\n            \"gridIndex\": 0,\n            \"axisLabel\": {\n                \"show\": true,\n                \"position\": \"top\",\n                \"rotate\": 30,\n                \"margin\": 8\n            },\n            \"inverse\": false,\n            \"offset\": 0,\n            \"splitNumber\": 5,\n            \"minInterval\": 0,\n            \"splitLine\": {\n                \"show\": false,\n                \"lineStyle\": {\n                    \"show\": true,\n                    \"width\": 1,\n                    \"opacity\": 1,\n                    \"curveness\": 0,\n                    \"type\": \"solid\"\n                }\n            },\n            \"data\": [\n                \"\\u56de\\u770b\\u8bfe\\u7a0b\\u89c6\\u9891\",\n                \"\\u4f5c\\u4e1a\\u63d0\\u4ea4\",\n                \"\\u968f\\u5802\\u6d4b\\u8bd5\",\n                \"\\u89c6\\u9891\\u4f1a\\u8bae\",\n                \"\\u4f5c\\u4e1a\\u6279\\u6539\\u53cd\\u9988\",\n                \"\\u8bfe\\u5802\\u53d1\\u8a00\",\n                \"\\u73ed\\u7ea7\\u901a\\u77e5\",\n                \"\\u73ed\\u7ea7\\u5708\",\n                \"\\u4f18\\u79c0\\u4f5c\\u4e1a\\u67e5\\u770b\",\n                \"\\u5b66\\u79d1\\u7ade\\u8d5b\\u6e38\\u620f\",\n                \"\\u5c4f\\u5e55\\u5171\\u4eab\",\n                \"\\u5f39\\u5e55\",\n                \"\\u8ba8\\u8bba\"\n            ]\n        }\n    ],\n    \"yAxis\": [\n        {\n            \"show\": true,\n            \"scale\": false,\n            \"nameLocation\": \"end\",\n            \"nameGap\": 15,\n            \"gridIndex\": 0,\n            \"inverse\": false,\n            \"offset\": 0,\n            \"splitNumber\": 5,\n            \"minInterval\": 0,\n            \"splitLine\": {\n                \"show\": false,\n                \"lineStyle\": {\n                    \"show\": true,\n                    \"width\": 1,\n                    \"opacity\": 1,\n                    \"curveness\": 0,\n                    \"type\": \"solid\"\n                }\n            }\n        }\n    ],\n    \"title\": [\n        {\n            \"text\": \"\\u5e73\\u53f0\\u529f\\u80fd\\u4f7f\\u7528\\u60c5\\u51b5\",\n            \"padding\": 5,\n            \"itemGap\": 10\n        }\n    ]\n};\n                chart_ec7621fb5c514c678ad21085f0fdcf60.setOption(option_ec7621fb5c514c678ad21085f0fdcf60);\n        });\n    </script>\n"
     },
     "metadata": {},
     "execution_count": 8
    }
   ],
   "source": [
    "# 统计平台功能使用情况\n",
    "keys = ['回看课程视频', '作业提交', '随堂测试', '视频会议', '作业批改反馈', '课堂发言', '班级通知', '班级圈', '优秀作业查看', '学科竞赛游戏', '屏幕共享', '弹幕', '讨论']\n",
    "res = [int(data[idx].value_counts()[1]) for idx in range(8,20)]\n",
    "\n",
    "bar = (\n",
    "    Bar()\n",
    "    .add_xaxis(keys)\n",
    "    .add_yaxis('使用人数', res)\n",
    "    .set_global_opts(\n",
    "        xaxis_opts=opts.AxisOpts(axislabel_opts=opts.LabelOpts(rotate=30)),\n",
    "        title_opts=opts.TitleOpts(title=\"平台功能使用情况\"),\n",
    "        legend_opts=opts.LegendOpts(is_show=True)\n",
    "    )\n",
    ")\n",
    "\n",
    "bar.render_notebook()"
   ]
  },
  {
   "cell_type": "code",
   "execution_count": 9,
   "metadata": {},
   "outputs": [
    {
     "output_type": "execute_result",
     "data": {
      "text/plain": [
       "<pyecharts.render.display.HTML at 0x11cf2b340>"
      ],
      "text/html": "\n<script>\n    require.config({\n        paths: {\n            'echarts':'https://assets.pyecharts.org/assets/echarts.min'\n        }\n    });\n</script>\n\n        <div id=\"b98b6a95ec2b43a180c5d3d559c70b8d\" style=\"width:900px; height:500px;\"></div>\n\n<script>\n        require(['echarts'], function(echarts) {\n                var chart_b98b6a95ec2b43a180c5d3d559c70b8d = echarts.init(\n                    document.getElementById('b98b6a95ec2b43a180c5d3d559c70b8d'), 'white', {renderer: 'canvas'});\n                var option_b98b6a95ec2b43a180c5d3d559c70b8d = {\n    \"animation\": true,\n    \"animationThreshold\": 2000,\n    \"animationDuration\": 1000,\n    \"animationEasing\": \"cubicOut\",\n    \"animationDelay\": 0,\n    \"animationDurationUpdate\": 300,\n    \"animationEasingUpdate\": \"cubicOut\",\n    \"animationDelayUpdate\": 0,\n    \"color\": [\n        \"#c23531\",\n        \"#2f4554\",\n        \"#61a0a8\",\n        \"#d48265\",\n        \"#749f83\",\n        \"#ca8622\",\n        \"#bda29a\",\n        \"#6e7074\",\n        \"#546570\",\n        \"#c4ccd3\",\n        \"#f05b72\",\n        \"#ef5b9c\",\n        \"#f47920\",\n        \"#905a3d\",\n        \"#fab27b\",\n        \"#2a5caa\",\n        \"#444693\",\n        \"#726930\",\n        \"#b2d235\",\n        \"#6d8346\",\n        \"#ac6767\",\n        \"#1d953f\",\n        \"#6950a1\",\n        \"#918597\"\n    ],\n    \"series\": [\n        {\n            \"type\": \"pie\",\n            \"clockwise\": true,\n            \"data\": [\n                {\n                    \"name\": \"20\\u5206\\u949f\",\n                    \"value\": 0.14060633343144555\n                },\n                {\n                    \"name\": \"20\\uff5e30\\u5206\\u949f\",\n                    \"value\": 0.2575751723733786\n                },\n                {\n                    \"name\": \"30\\uff5e45\\u5206\\u949f\",\n                    \"value\": 0.32735159640989236\n                },\n                {\n                    \"name\": \"45\\u5206\\u949f\\u4ee5\\u4e0a\",\n                    \"value\": 0.27446689778528344\n                }\n            ],\n            \"radius\": [\n                \"40%\",\n                \"55%\"\n            ],\n            \"center\": [\n                \"50%\",\n                \"50%\"\n            ],\n            \"label\": {\n                \"show\": true,\n                \"position\": \"outside\",\n                \"margin\": 8,\n                \"formatter\": \"{b|{b}: }{per|{d}%}  \",\n                \"backgroundColor\": \"#eee\",\n                \"borderColor\": \"#aaa\",\n                \"borderWidth\": 1,\n                \"borderRadius\": 4,\n                \"rich\": {\n                    \"a\": {\n                        \"color\": \"#999\",\n                        \"lineHeight\": 22,\n                        \"align\": \"center\"\n                    },\n                    \"abg\": {\n                        \"backgroundColor\": \"#e3e3e3\",\n                        \"width\": \"100%\",\n                        \"align\": \"right\",\n                        \"height\": 22,\n                        \"borderRadius\": [\n                            4,\n                            4,\n                            0,\n                            0\n                        ]\n                    },\n                    \"hr\": {\n                        \"borderColor\": \"#aaa\",\n                        \"width\": \"100%\",\n                        \"borderWidth\": 0.5,\n                        \"height\": 0\n                    },\n                    \"b\": {\n                        \"fontSize\": 16,\n                        \"lineHeight\": 33\n                    },\n                    \"per\": {\n                        \"color\": \"#eee\",\n                        \"backgroundColor\": \"#334455\",\n                        \"padding\": [\n                            2,\n                            4\n                        ],\n                        \"borderRadius\": 2\n                    }\n                }\n            }\n        }\n    ],\n    \"legend\": [\n        {\n            \"data\": [\n                \"20\\u5206\\u949f\",\n                \"20\\uff5e30\\u5206\\u949f\",\n                \"30\\uff5e45\\u5206\\u949f\",\n                \"45\\u5206\\u949f\\u4ee5\\u4e0a\"\n            ],\n            \"selected\": {},\n            \"show\": true,\n            \"padding\": 5,\n            \"itemGap\": 10,\n            \"itemWidth\": 25,\n            \"itemHeight\": 14\n        }\n    ],\n    \"tooltip\": {\n        \"show\": true,\n        \"trigger\": \"item\",\n        \"triggerOn\": \"mousemove|click\",\n        \"axisPointer\": {\n            \"type\": \"line\"\n        },\n        \"showContent\": true,\n        \"alwaysShowContent\": false,\n        \"showDelay\": 0,\n        \"hideDelay\": 100,\n        \"textStyle\": {\n            \"fontSize\": 14\n        },\n        \"borderWidth\": 0,\n        \"padding\": 5\n    },\n    \"title\": [\n        {\n            \"text\": \"\\u5b66\\u751f\\u4e0a\\u8bfe\\u65f6\\u957f\\u60c5\\u51b5\\u7edf\\u8ba1\",\n            \"padding\": 5,\n            \"itemGap\": 10\n        }\n    ]\n};\n                chart_b98b6a95ec2b43a180c5d3d559c70b8d.setOption(option_b98b6a95ec2b43a180c5d3d559c70b8d);\n        });\n    </script>\n"
     },
     "metadata": {},
     "execution_count": 9
    }
   ],
   "source": [
    "# 统计上课时长\n",
    "keys = ['20分钟', '20～30分钟', '30～45分钟', '45分钟以上']\n",
    "res = [data[21].value_counts()[idx] for idx in range(1,5)]\n",
    "res = numpy.array(res)\n",
    "res = res / res.sum()\n",
    "res = [list(x) for x in zip(keys, res)]\n",
    "\n",
    "pie = (\n",
    "    Pie()\n",
    "    .add(\n",
    "        \"\",\n",
    "        res,\n",
    "        radius=[\"40%\", \"55%\"],\n",
    "        label_opts=PIE_SETTINGS\n",
    "    )\n",
    "    .set_global_opts(title_opts=opts.TitleOpts(title=\"学生上课时长情况统计\"))\n",
    ")\n",
    "pie.render_notebook()"
   ]
  }
 ],
 "metadata": {
  "kernelspec": {
   "name": "pythonjvsc74a57bd08eef4f11fdc106e9248655934e6a72dc1782c2a0ac6e772311e9a3a7e820e6d0",
   "display_name": "Python 3.9.4  ('venv': venv)"
  },
  "language_info": {
   "codemirror_mode": {
    "name": "ipython",
    "version": 3
   },
   "file_extension": ".py",
   "mimetype": "text/x-python",
   "name": "python",
   "nbconvert_exporter": "python",
   "pygments_lexer": "ipython3",
   "version": "3.9.4"
  },
  "metadata": {
   "interpreter": {
    "hash": "8eef4f11fdc106e9248655934e6a72dc1782c2a0ac6e772311e9a3a7e820e6d0"
   }
  }
 },
 "nbformat": 4,
 "nbformat_minor": 1
}