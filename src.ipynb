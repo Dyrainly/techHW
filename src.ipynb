{
 "cells": [
  {
   "cell_type": "code",
   "execution_count": 28,
   "metadata": {
    "collapsed": true
   },
   "outputs": [
    {
     "name": "stderr",
     "output_type": "stream",
     "text": [
      "/Users/peanutzhen/Desktop/projects/techHW/venv/lib/python3.9/site-packages/IPython/core/interactiveshell.py:3169: DtypeWarning: Columns (29) have mixed types.Specify dtype option on import or set low_memory=False.\n",
      "  has_raised = await self.run_ast_nodes(code_ast.body, cell_name,\n"
     ]
    },
    {
     "name": "stdout",
     "output_type": "stream",
     "text": [
      "1.2.4\n"
     ]
    }
   ],
   "source": [
    "### 加载数据\n",
    "import pandas\n",
    "import numpy\n",
    "import pickle\n",
    "\n",
    "dataset = pandas.read_csv('dataset.csv')\n",
    "print(pandas.__version__)"
   ]
  },
  {
   "cell_type": "code",
   "execution_count": 29,
   "metadata": {
    "pycharm": {
     "name": "#%%\n"
    }
   },
   "outputs": [
    {
     "name": "stdout",
     "output_type": "stream",
     "text": [
      "Data cleaning completed！Total:\n",
      "750841\n"
     ]
    }
   ],
   "source": [
    "### 清洗数据\n",
    "\n",
    "# 洗掉不必要的列\n",
    "data = dataset.drop(\n",
    "    [\n",
    "        'Unnamed: 0',\n",
    "        '提交答卷时间',\n",
    "        '所用时间',\n",
    "        '来源',\n",
    "        '来源详情',\n",
    "        '来自IP',\n",
    "        '1、请问您的学校所在地区和类别：'\n",
    "    ],\n",
    "    axis=1\n",
    ")\n",
    "\n",
    "# 列名含义，接下来使用下标访问\n",
    "COLS_NAME = data.columns.values.tolist()\n",
    "data.columns = [idx for idx in range(len(COLS_NAME))]\n",
    "\n",
    "# 地区有两个-3的异常值 清洗\n",
    "data = data[data[91] != -3]\n",
    "\n",
    "# 14题数据为1or2 因此全体-1 统一处理\n",
    "data.iloc[:,53:58] = data.iloc[:,53:58] - 1\n",
    "\n",
    "# 线上学习时间有错误值及空值 0~15\n",
    "data = data[data[22].isin([x for x in range(16)])].astype(int)\n",
    "\n",
    "# 输出最后行数\n",
    "print(f'Data cleaning completed！Total:\\n{data.shape[0]}')"
   ]
  },
  {
   "cell_type": "code",
   "execution_count": 30,
   "outputs": [],
   "source": [
    "# 导出数据csv\n",
    "data.to_csv('./cooked.csv')\n",
    "with open('./COLS_NAME.dat', 'wb') as f:\n",
    "    pickle.dump(COLS_NAME, f)"
   ],
   "metadata": {
    "collapsed": false,
    "pycharm": {
     "name": "#%%\n"
    }
   }
  }
 ],
 "metadata": {
  "kernelspec": {
   "name": "python3",
   "language": "python",
   "display_name": "Python 3"
  },
  "language_info": {
   "codemirror_mode": {
    "name": "ipython",
    "version": 2
   },
   "file_extension": ".py",
   "mimetype": "text/x-python",
   "name": "python",
   "nbconvert_exporter": "python",
   "pygments_lexer": "ipython2",
   "version": "3.9.4"
  },
  "metadata": {
   "interpreter": {
    "hash": "8eef4f11fdc106e9248655934e6a72dc1782c2a0ac6e772311e9a3a7e820e6d0"
   }
  }
 },
 "nbformat": 4,
 "nbformat_minor": 0
}