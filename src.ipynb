{
 "cells": [
  {
   "cell_type": "code",
   "execution_count": 107,
   "metadata": {},
   "outputs": [
    {
     "output_type": "stream",
     "name": "stderr",
     "text": [
      "/Users/peanutzhen/Desktop/projects/techHW/venv/lib/python3.9/site-packages/IPython/core/interactiveshell.py:3169: DtypeWarning: Columns (29) have mixed types.Specify dtype option on import or set low_memory=False.\n",
      "  has_raised = await self.run_ast_nodes(code_ast.body, cell_name,\n",
      "Total data: 800000\n"
     ]
    }
   ],
   "source": [
    "### 加载数据\n",
    "import pandas\n",
    "import pickle\n",
    "import numpy\n",
    "from pyecharts.charts import Bar, Radar\n",
    "from pyecharts.charts import Pie\n",
    "from pyecharts import options as opts\n",
    "from pyecharts.commons.utils import JsCode\n",
    "from pyecharts.charts import Radar\n",
    "\n",
    "SAVE_DATA = False\n",
    "\n",
    "dataset = pandas.read_csv('dataset.csv')\n",
    "print(f'Total data: {dataset.shape[0]}')"
   ]
  },
  {
   "cell_type": "code",
   "execution_count": 108,
   "metadata": {
    "pycharm": {
     "name": "#%%\n"
    }
   },
   "outputs": [
    {
     "output_type": "stream",
     "name": "stdout",
     "text": [
      "Data cleaning completed！Total:\n750841\n"
     ]
    }
   ],
   "source": [
    "### 清洗数据\n",
    "# 洗掉不必要的列\n",
    "data = dataset.drop(\n",
    "    [\n",
    "        'Unnamed: 0',\n",
    "        '提交答卷时间',\n",
    "        '所用时间',\n",
    "        '来源',\n",
    "        '来源详情',\n",
    "        '来自IP',\n",
    "        '1、请问您的学校所在地区和类别：'\n",
    "    ],\n",
    "    axis=1\n",
    ")\n",
    "\n",
    "# 列名含义，接下来使用下标访问\n",
    "# 下标为整型int64 不是str!\n",
    "COLS_NAME = data.columns.values.tolist()\n",
    "data.columns = [idx for idx in range(len(COLS_NAME))]\n",
    "\n",
    "# 地区有两个-3的异常值 清洗\n",
    "data = data[data[91] != -3]\n",
    "\n",
    "# 14题数据为1or2 因此全体-1 统一处理\n",
    "data.iloc[:,53:58] = data.iloc[:,53:58] - 1\n",
    "\n",
    "# 线上学习时间有错误值及空值 0~15\n",
    "data = data[data[22].isin([x for x in range(16)])].astype(int)\n",
    "\n",
    "# 输出最后行数\n",
    "print(f'Data cleaning completed！Total:\\n{data.shape[0]}')\n",
    "NUMS = data.shape[0]"
   ]
  },
  {
   "cell_type": "code",
   "execution_count": 109,
   "metadata": {
    "pycharm": {
     "name": "#%%\n"
    }
   },
   "outputs": [],
   "source": [
    "# 导出数据csv\n",
    "if SAVE_DATA:\n",
    "    data.to_csv('./cooked.csv')\n",
    "    with open('./COLS_NAME.dat', 'wb') as f:\n",
    "        pickle.dump(COLS_NAME, f)"
   ]
  },
  {
   "cell_type": "code",
   "execution_count": 110,
   "metadata": {},
   "outputs": [
    {
     "output_type": "stream",
     "name": "stdout",
     "text": [
      "PIE_SETTING deployed!\n"
     ]
    }
   ],
   "source": [
    "# 富文本饼图设置\n",
    "PIE_SETTINGS = opts.LabelOpts(\n",
    "    position=\"outside\",\n",
    "    formatter=\"{b|{b}: }{per|{d}%}  \",\n",
    "    background_color=\"#eee\",\n",
    "    border_color=\"#aaa\",\n",
    "    border_width=1,\n",
    "    border_radius=4,\n",
    "    rich={\n",
    "        \"a\": {\"color\": \"#999\", \"lineHeight\": 22, \"align\": \"center\"},\n",
    "        \"abg\": {\n",
    "            \"backgroundColor\": \"#e3e3e3\",\n",
    "            \"width\": \"100%\",\n",
    "            \"align\": \"right\",\n",
    "            \"height\": 22,\n",
    "            \"borderRadius\": [4, 4, 0, 0],\n",
    "        },\n",
    "        \"hr\": {\n",
    "            \"borderColor\": \"#aaa\",\n",
    "            \"width\": \"100%\",\n",
    "            \"borderWidth\": 0.5,\n",
    "            \"height\": 0,\n",
    "        },\n",
    "        \"b\": {\"fontSize\": 16, \"lineHeight\": 33},\n",
    "        \"per\": {\n",
    "            \"color\": \"#eee\",\n",
    "            \"backgroundColor\": \"#334455\",\n",
    "            \"padding\": [2, 4],\n",
    "            \"borderRadius\": 2,\n",
    "        },\n",
    "    },\n",
    ")\n",
    "print('PIE_SETTING deployed!')"
   ]
  },
  {
   "cell_type": "code",
   "execution_count": 111,
   "metadata": {
    "pycharm": {
     "name": "#%%\n"
    }
   },
   "outputs": [
    {
     "output_type": "execute_result",
     "data": {
      "text/plain": [
       "<pyecharts.render.display.HTML at 0x1295a4cd0>"
      ],
      "text/html": "\n<script>\n    require.config({\n        paths: {\n            'echarts':'https://assets.pyecharts.org/assets/echarts.min'\n        }\n    });\n</script>\n\n        <div id=\"c9c9b9db695b4d09ae811b7877ed6b10\" style=\"width:900px; height:500px;\"></div>\n\n<script>\n        require(['echarts'], function(echarts) {\n                var chart_c9c9b9db695b4d09ae811b7877ed6b10 = echarts.init(\n                    document.getElementById('c9c9b9db695b4d09ae811b7877ed6b10'), 'white', {renderer: 'canvas'});\n                var option_c9c9b9db695b4d09ae811b7877ed6b10 = {\n    \"animation\": true,\n    \"animationThreshold\": 2000,\n    \"animationDuration\": 1000,\n    \"animationEasing\": \"cubicOut\",\n    \"animationDelay\": 0,\n    \"animationDurationUpdate\": 300,\n    \"animationEasingUpdate\": \"cubicOut\",\n    \"animationDelayUpdate\": 0,\n    \"color\": [\n        \"#c23531\",\n        \"#2f4554\",\n        \"#61a0a8\",\n        \"#d48265\",\n        \"#749f83\",\n        \"#ca8622\",\n        \"#bda29a\",\n        \"#6e7074\",\n        \"#546570\",\n        \"#c4ccd3\",\n        \"#f05b72\",\n        \"#ef5b9c\",\n        \"#f47920\",\n        \"#905a3d\",\n        \"#fab27b\",\n        \"#2a5caa\",\n        \"#444693\",\n        \"#726930\",\n        \"#b2d235\",\n        \"#6d8346\",\n        \"#ac6767\",\n        \"#1d953f\",\n        \"#6950a1\",\n        \"#918597\"\n    ],\n    \"series\": [\n        {\n            \"type\": \"bar\",\n            \"name\": \"\\u95ee\\u5377\\u4eba\\u6570\",\n            \"legendHoverLink\": true,\n            \"data\": [\n                64152,\n                64610,\n                65743,\n                71080,\n                75424,\n                75457,\n                74840,\n                70469,\n                66845,\n                46583,\n                41541,\n                34097\n            ],\n            \"showBackground\": false,\n            \"barMinHeight\": 0,\n            \"barCategoryGap\": \"20%\",\n            \"barGap\": \"30%\",\n            \"large\": false,\n            \"largeThreshold\": 400,\n            \"seriesLayoutBy\": \"column\",\n            \"datasetIndex\": 0,\n            \"clip\": true,\n            \"zlevel\": 0,\n            \"z\": 2,\n            \"label\": {\n                \"show\": true,\n                \"position\": \"top\",\n                \"margin\": 8\n            }\n        }\n    ],\n    \"legend\": [\n        {\n            \"data\": [\n                \"\\u95ee\\u5377\\u4eba\\u6570\"\n            ],\n            \"selected\": {\n                \"\\u95ee\\u5377\\u4eba\\u6570\": true\n            },\n            \"show\": true,\n            \"padding\": 5,\n            \"itemGap\": 10,\n            \"itemWidth\": 25,\n            \"itemHeight\": 14\n        }\n    ],\n    \"tooltip\": {\n        \"show\": true,\n        \"trigger\": \"item\",\n        \"triggerOn\": \"mousemove|click\",\n        \"axisPointer\": {\n            \"type\": \"line\"\n        },\n        \"showContent\": true,\n        \"alwaysShowContent\": false,\n        \"showDelay\": 0,\n        \"hideDelay\": 100,\n        \"textStyle\": {\n            \"fontSize\": 14\n        },\n        \"borderWidth\": 0,\n        \"padding\": 5\n    },\n    \"xAxis\": [\n        {\n            \"show\": true,\n            \"scale\": false,\n            \"nameLocation\": \"end\",\n            \"nameGap\": 15,\n            \"gridIndex\": 0,\n            \"inverse\": false,\n            \"offset\": 0,\n            \"splitNumber\": 5,\n            \"minInterval\": 0,\n            \"splitLine\": {\n                \"show\": false,\n                \"lineStyle\": {\n                    \"show\": true,\n                    \"width\": 1,\n                    \"opacity\": 1,\n                    \"curveness\": 0,\n                    \"type\": \"solid\"\n                }\n            },\n            \"data\": [\n                \"\\u4e00\\u5e74\\u7ea7\",\n                \"\\u4e8c\\u5e74\\u7ea7\",\n                \"\\u4e09\\u5e74\\u7ea7\",\n                \"\\u56db\\u5e74\\u7ea7\",\n                \"\\u4e94\\u5e74\\u7ea7\",\n                \"\\u516d\\u5e74\\u7ea7\",\n                \"\\u521d\\u4e00\",\n                \"\\u521d\\u4e8c\",\n                \"\\u521d\\u4e09\",\n                \"\\u9ad8\\u4e00\",\n                \"\\u9ad8\\u4e8c\",\n                \"\\u9ad8\\u4e09\"\n            ]\n        }\n    ],\n    \"yAxis\": [\n        {\n            \"show\": true,\n            \"scale\": false,\n            \"nameLocation\": \"end\",\n            \"nameGap\": 15,\n            \"gridIndex\": 0,\n            \"inverse\": false,\n            \"offset\": 0,\n            \"splitNumber\": 5,\n            \"minInterval\": 0,\n            \"splitLine\": {\n                \"show\": false,\n                \"lineStyle\": {\n                    \"show\": true,\n                    \"width\": 1,\n                    \"opacity\": 1,\n                    \"curveness\": 0,\n                    \"type\": \"solid\"\n                }\n            }\n        }\n    ],\n    \"title\": [\n        {\n            \"text\": \"\\u5b66\\u751f\\u7684\\u5e74\\u7ea7\\u5206\\u5e03\",\n            \"padding\": 5,\n            \"itemGap\": 10\n        }\n    ]\n};\n                chart_c9c9b9db695b4d09ae811b7877ed6b10.setOption(option_c9c9b9db695b4d09ae811b7877ed6b10);\n        });\n    </script>\n"
     },
     "metadata": {},
     "execution_count": 111
    }
   ],
   "source": [
    "# 分析参加调查的学生的年级分布（输出柱状图）\n",
    "res = [0 for _ in range(12)]\n",
    "for _, grade in data[1].items():\n",
    "    res[grade-1] = res[grade-1] + 1\n",
    "\n",
    "bar = (\n",
    "    Bar()\n",
    "    .add_xaxis([\"一年级\", \"二年级\", \"三年级\", \"四年级\", \"五年级\", \"六年级\", \"初一\", \"初二\", \"初三\", \"高一\", \"高二\", \"高三\"])\n",
    "    .add_yaxis(\"问卷人数\", res)\n",
    "    .set_global_opts(\n",
    "        title_opts=opts.TitleOpts(title=\"学生的年级分布\"),\n",
    "        legend_opts=opts.LegendOpts(is_show=True)\n",
    "    )\n",
    ")\n",
    "bar.render_notebook()"
   ]
  },
  {
   "cell_type": "code",
   "execution_count": 112,
   "metadata": {},
   "outputs": [
    {
     "output_type": "execute_result",
     "data": {
      "text/plain": [
       "<pyecharts.render.display.HTML at 0x12899c6a0>"
      ],
      "text/html": "\n<script>\n    require.config({\n        paths: {\n            'echarts':'https://assets.pyecharts.org/assets/echarts.min'\n        }\n    });\n</script>\n\n        <div id=\"4279068819f5483e802bd8c6b2ba689e\" style=\"width:900px; height:500px;\"></div>\n\n<script>\n        require(['echarts'], function(echarts) {\n                var chart_4279068819f5483e802bd8c6b2ba689e = echarts.init(\n                    document.getElementById('4279068819f5483e802bd8c6b2ba689e'), 'white', {renderer: 'canvas'});\n                var option_4279068819f5483e802bd8c6b2ba689e = {\n    \"animation\": true,\n    \"animationThreshold\": 2000,\n    \"animationDuration\": 1000,\n    \"animationEasing\": \"cubicOut\",\n    \"animationDelay\": 0,\n    \"animationDurationUpdate\": 300,\n    \"animationEasingUpdate\": \"cubicOut\",\n    \"animationDelayUpdate\": 0,\n    \"color\": [\n        \"#c23531\",\n        \"#2f4554\",\n        \"#61a0a8\",\n        \"#d48265\",\n        \"#749f83\",\n        \"#ca8622\",\n        \"#bda29a\",\n        \"#6e7074\",\n        \"#546570\",\n        \"#c4ccd3\",\n        \"#f05b72\",\n        \"#ef5b9c\",\n        \"#f47920\",\n        \"#905a3d\",\n        \"#fab27b\",\n        \"#2a5caa\",\n        \"#444693\",\n        \"#726930\",\n        \"#b2d235\",\n        \"#6d8346\",\n        \"#ac6767\",\n        \"#1d953f\",\n        \"#6950a1\",\n        \"#918597\"\n    ],\n    \"series\": [\n        {\n            \"type\": \"pie\",\n            \"clockwise\": true,\n            \"data\": [\n                {\n                    \"name\": \"\\u7535\\u89c6\",\n                    \"value\": 0.1031940523370096\n                },\n                {\n                    \"name\": \"\\u53f0\\u5f0f\\u7535\\u8111\",\n                    \"value\": 0.15628139477635275\n                },\n                {\n                    \"name\": \"\\u5e73\\u677f\",\n                    \"value\": 0.10111677618569223\n                },\n                {\n                    \"name\": \"\\u624b\\u673a\",\n                    \"value\": 0.4768952927148225\n                },\n                {\n                    \"name\": \"\\u97f3\\u9891\",\n                    \"value\": 0.026266824273526262\n                },\n                {\n                    \"name\": \"\\u7eb8\\u8d28\\u5b66\\u4e60\\u8d44\\u6599\",\n                    \"value\": 0.13624565971259664\n                }\n            ],\n            \"radius\": [\n                \"40%\",\n                \"55%\"\n            ],\n            \"center\": [\n                \"50%\",\n                \"50%\"\n            ],\n            \"label\": {\n                \"show\": true,\n                \"position\": \"outside\",\n                \"margin\": 8,\n                \"formatter\": \"{b|{b}: }{per|{d}%}  \",\n                \"backgroundColor\": \"#eee\",\n                \"borderColor\": \"#aaa\",\n                \"borderWidth\": 1,\n                \"borderRadius\": 4,\n                \"rich\": {\n                    \"a\": {\n                        \"color\": \"#999\",\n                        \"lineHeight\": 22,\n                        \"align\": \"center\"\n                    },\n                    \"abg\": {\n                        \"backgroundColor\": \"#e3e3e3\",\n                        \"width\": \"100%\",\n                        \"align\": \"right\",\n                        \"height\": 22,\n                        \"borderRadius\": [\n                            4,\n                            4,\n                            0,\n                            0\n                        ]\n                    },\n                    \"hr\": {\n                        \"borderColor\": \"#aaa\",\n                        \"width\": \"100%\",\n                        \"borderWidth\": 0.5,\n                        \"height\": 0\n                    },\n                    \"b\": {\n                        \"fontSize\": 16,\n                        \"lineHeight\": 33\n                    },\n                    \"per\": {\n                        \"color\": \"#eee\",\n                        \"backgroundColor\": \"#334455\",\n                        \"padding\": [\n                            2,\n                            4\n                        ],\n                        \"borderRadius\": 2\n                    }\n                }\n            }\n        }\n    ],\n    \"legend\": [\n        {\n            \"data\": [\n                \"\\u7535\\u89c6\",\n                \"\\u53f0\\u5f0f\\u7535\\u8111\",\n                \"\\u5e73\\u677f\",\n                \"\\u624b\\u673a\",\n                \"\\u97f3\\u9891\",\n                \"\\u7eb8\\u8d28\\u5b66\\u4e60\\u8d44\\u6599\"\n            ],\n            \"selected\": {},\n            \"show\": true,\n            \"padding\": 5,\n            \"itemGap\": 10,\n            \"itemWidth\": 25,\n            \"itemHeight\": 14\n        }\n    ],\n    \"tooltip\": {\n        \"show\": true,\n        \"trigger\": \"item\",\n        \"triggerOn\": \"mousemove|click\",\n        \"axisPointer\": {\n            \"type\": \"line\"\n        },\n        \"showContent\": true,\n        \"alwaysShowContent\": false,\n        \"showDelay\": 0,\n        \"hideDelay\": 100,\n        \"textStyle\": {\n            \"fontSize\": 14\n        },\n        \"borderWidth\": 0,\n        \"padding\": 5\n    },\n    \"title\": [\n        {\n            \"text\": \"\\u5b66\\u751f\\u4e0a\\u8bfe\\u8bbe\\u5907\\u4f7f\\u7528\\u60c5\\u51b5\\u7edf\\u8ba1\",\n            \"padding\": 5,\n            \"itemGap\": 10\n        }\n    ]\n};\n                chart_4279068819f5483e802bd8c6b2ba689e.setOption(option_4279068819f5483e802bd8c6b2ba689e);\n        });\n    </script>\n"
     },
     "metadata": {},
     "execution_count": 112
    }
   ],
   "source": [
    "# 统计学生使用设备情况\n",
    "keys = ['电视', '台式电脑', '平板', '手机', '音频', '纸质学习资料']\n",
    "res = [data[idx].value_counts()[1] for idx in range(2,8)]\n",
    "res = numpy.array(res)\n",
    "res = res / res.sum()\n",
    "res = [list(x) for x in zip(keys, res)]\n",
    "\n",
    "pie = (\n",
    "    Pie()\n",
    "    .add(\n",
    "        \"\",\n",
    "        res,\n",
    "        radius=[\"40%\", \"55%\"],\n",
    "        label_opts=PIE_SETTINGS\n",
    "    )\n",
    "    .set_global_opts(title_opts=opts.TitleOpts(title=\"学生上课设备使用情况统计\"))\n",
    ")\n",
    "pie.render_notebook()"
   ]
  },
  {
   "cell_type": "code",
   "execution_count": 113,
   "metadata": {},
   "outputs": [
    {
     "output_type": "execute_result",
     "data": {
      "text/plain": [
       "<pyecharts.render.display.HTML at 0x129633340>"
      ],
      "text/html": "\n<script>\n    require.config({\n        paths: {\n            'echarts':'https://assets.pyecharts.org/assets/echarts.min'\n        }\n    });\n</script>\n\n        <div id=\"631650c06dac4542b27acb99f6b0cc12\" style=\"width:900px; height:500px;\"></div>\n\n<script>\n        require(['echarts'], function(echarts) {\n                var chart_631650c06dac4542b27acb99f6b0cc12 = echarts.init(\n                    document.getElementById('631650c06dac4542b27acb99f6b0cc12'), 'white', {renderer: 'canvas'});\n                var option_631650c06dac4542b27acb99f6b0cc12 = {\n    \"animation\": true,\n    \"animationThreshold\": 2000,\n    \"animationDuration\": 1000,\n    \"animationEasing\": \"cubicOut\",\n    \"animationDelay\": 0,\n    \"animationDurationUpdate\": 300,\n    \"animationEasingUpdate\": \"cubicOut\",\n    \"animationDelayUpdate\": 0,\n    \"color\": [\n        \"#c23531\",\n        \"#2f4554\",\n        \"#61a0a8\",\n        \"#d48265\",\n        \"#749f83\",\n        \"#ca8622\",\n        \"#bda29a\",\n        \"#6e7074\",\n        \"#546570\",\n        \"#c4ccd3\",\n        \"#f05b72\",\n        \"#ef5b9c\",\n        \"#f47920\",\n        \"#905a3d\",\n        \"#fab27b\",\n        \"#2a5caa\",\n        \"#444693\",\n        \"#726930\",\n        \"#b2d235\",\n        \"#6d8346\",\n        \"#ac6767\",\n        \"#1d953f\",\n        \"#6950a1\",\n        \"#918597\"\n    ],\n    \"series\": [\n        {\n            \"type\": \"bar\",\n            \"name\": \"\\u4f7f\\u7528\\u4eba\\u6570\",\n            \"legendHoverLink\": true,\n            \"data\": [\n                523619,\n                614682,\n                205803,\n                132917,\n                369300,\n                230616,\n                458726,\n                221314,\n                314978,\n                25556,\n                71182,\n                94203\n            ],\n            \"showBackground\": false,\n            \"barMinHeight\": 0,\n            \"barCategoryGap\": \"20%\",\n            \"barGap\": \"30%\",\n            \"large\": false,\n            \"largeThreshold\": 400,\n            \"seriesLayoutBy\": \"column\",\n            \"datasetIndex\": 0,\n            \"clip\": true,\n            \"zlevel\": 0,\n            \"z\": 2,\n            \"label\": {\n                \"show\": true,\n                \"position\": \"top\",\n                \"margin\": 8\n            }\n        }\n    ],\n    \"legend\": [\n        {\n            \"data\": [\n                \"\\u4f7f\\u7528\\u4eba\\u6570\"\n            ],\n            \"selected\": {\n                \"\\u4f7f\\u7528\\u4eba\\u6570\": true\n            },\n            \"show\": true,\n            \"padding\": 5,\n            \"itemGap\": 10,\n            \"itemWidth\": 25,\n            \"itemHeight\": 14\n        }\n    ],\n    \"tooltip\": {\n        \"show\": true,\n        \"trigger\": \"item\",\n        \"triggerOn\": \"mousemove|click\",\n        \"axisPointer\": {\n            \"type\": \"line\"\n        },\n        \"showContent\": true,\n        \"alwaysShowContent\": false,\n        \"showDelay\": 0,\n        \"hideDelay\": 100,\n        \"textStyle\": {\n            \"fontSize\": 14\n        },\n        \"borderWidth\": 0,\n        \"padding\": 5\n    },\n    \"xAxis\": [\n        {\n            \"show\": true,\n            \"scale\": false,\n            \"nameLocation\": \"end\",\n            \"nameGap\": 15,\n            \"gridIndex\": 0,\n            \"axisLabel\": {\n                \"show\": true,\n                \"position\": \"top\",\n                \"rotate\": 30,\n                \"margin\": 8\n            },\n            \"inverse\": false,\n            \"offset\": 0,\n            \"splitNumber\": 5,\n            \"minInterval\": 0,\n            \"splitLine\": {\n                \"show\": false,\n                \"lineStyle\": {\n                    \"show\": true,\n                    \"width\": 1,\n                    \"opacity\": 1,\n                    \"curveness\": 0,\n                    \"type\": \"solid\"\n                }\n            },\n            \"data\": [\n                \"\\u56de\\u770b\\u8bfe\\u7a0b\\u89c6\\u9891\",\n                \"\\u4f5c\\u4e1a\\u63d0\\u4ea4\",\n                \"\\u968f\\u5802\\u6d4b\\u8bd5\",\n                \"\\u89c6\\u9891\\u4f1a\\u8bae\",\n                \"\\u4f5c\\u4e1a\\u6279\\u6539\\u53cd\\u9988\",\n                \"\\u8bfe\\u5802\\u53d1\\u8a00\",\n                \"\\u73ed\\u7ea7\\u901a\\u77e5\",\n                \"\\u73ed\\u7ea7\\u5708\",\n                \"\\u4f18\\u79c0\\u4f5c\\u4e1a\\u67e5\\u770b\",\n                \"\\u5b66\\u79d1\\u7ade\\u8d5b\\u6e38\\u620f\",\n                \"\\u5c4f\\u5e55\\u5171\\u4eab\",\n                \"\\u5f39\\u5e55\",\n                \"\\u8ba8\\u8bba\"\n            ]\n        }\n    ],\n    \"yAxis\": [\n        {\n            \"show\": true,\n            \"scale\": false,\n            \"nameLocation\": \"end\",\n            \"nameGap\": 15,\n            \"gridIndex\": 0,\n            \"inverse\": false,\n            \"offset\": 0,\n            \"splitNumber\": 5,\n            \"minInterval\": 0,\n            \"splitLine\": {\n                \"show\": false,\n                \"lineStyle\": {\n                    \"show\": true,\n                    \"width\": 1,\n                    \"opacity\": 1,\n                    \"curveness\": 0,\n                    \"type\": \"solid\"\n                }\n            }\n        }\n    ],\n    \"title\": [\n        {\n            \"text\": \"\\u5e73\\u53f0\\u529f\\u80fd\\u4f7f\\u7528\\u60c5\\u51b5\",\n            \"padding\": 5,\n            \"itemGap\": 10\n        }\n    ]\n};\n                chart_631650c06dac4542b27acb99f6b0cc12.setOption(option_631650c06dac4542b27acb99f6b0cc12);\n        });\n    </script>\n"
     },
     "metadata": {},
     "execution_count": 113
    }
   ],
   "source": [
    "# 统计平台功能使用情况\n",
    "keys = ['回看课程视频', '作业提交', '随堂测试', '视频会议', '作业批改反馈', '课堂发言', '班级通知', '班级圈', '优秀作业查看', '学科竞赛游戏', '屏幕共享', '弹幕', '讨论']\n",
    "res = [int(data[idx].value_counts()[1]) for idx in range(8,20)]\n",
    "\n",
    "bar = (\n",
    "    Bar()\n",
    "    .add_xaxis(keys)\n",
    "    .add_yaxis('使用人数', res)\n",
    "    .set_global_opts(\n",
    "        xaxis_opts=opts.AxisOpts(axislabel_opts=opts.LabelOpts(rotate=30)),\n",
    "        title_opts=opts.TitleOpts(title=\"平台功能使用情况\"),\n",
    "        legend_opts=opts.LegendOpts(is_show=True)\n",
    "    )\n",
    ")\n",
    "\n",
    "bar.render_notebook()"
   ]
  },
  {
   "cell_type": "code",
   "execution_count": 114,
   "metadata": {},
   "outputs": [
    {
     "output_type": "execute_result",
     "data": {
      "text/plain": [
       "<pyecharts.render.display.HTML at 0x12899c310>"
      ],
      "text/html": "\n<script>\n    require.config({\n        paths: {\n            'echarts':'https://assets.pyecharts.org/assets/echarts.min'\n        }\n    });\n</script>\n\n        <div id=\"05001da7136b4e1fbbff955aae21b827\" style=\"width:900px; height:500px;\"></div>\n\n<script>\n        require(['echarts'], function(echarts) {\n                var chart_05001da7136b4e1fbbff955aae21b827 = echarts.init(\n                    document.getElementById('05001da7136b4e1fbbff955aae21b827'), 'white', {renderer: 'canvas'});\n                var option_05001da7136b4e1fbbff955aae21b827 = {\n    \"animation\": true,\n    \"animationThreshold\": 2000,\n    \"animationDuration\": 1000,\n    \"animationEasing\": \"cubicOut\",\n    \"animationDelay\": 0,\n    \"animationDurationUpdate\": 300,\n    \"animationEasingUpdate\": \"cubicOut\",\n    \"animationDelayUpdate\": 0,\n    \"color\": [\n        \"#c23531\",\n        \"#2f4554\",\n        \"#61a0a8\",\n        \"#d48265\",\n        \"#749f83\",\n        \"#ca8622\",\n        \"#bda29a\",\n        \"#6e7074\",\n        \"#546570\",\n        \"#c4ccd3\",\n        \"#f05b72\",\n        \"#ef5b9c\",\n        \"#f47920\",\n        \"#905a3d\",\n        \"#fab27b\",\n        \"#2a5caa\",\n        \"#444693\",\n        \"#726930\",\n        \"#b2d235\",\n        \"#6d8346\",\n        \"#ac6767\",\n        \"#1d953f\",\n        \"#6950a1\",\n        \"#918597\"\n    ],\n    \"series\": [\n        {\n            \"type\": \"pie\",\n            \"clockwise\": true,\n            \"data\": [\n                {\n                    \"name\": \"20\\u5206\\u949f\",\n                    \"value\": 0.14060633343144555\n                },\n                {\n                    \"name\": \"20\\uff5e30\\u5206\\u949f\",\n                    \"value\": 0.2575751723733786\n                },\n                {\n                    \"name\": \"30\\uff5e45\\u5206\\u949f\",\n                    \"value\": 0.32735159640989236\n                },\n                {\n                    \"name\": \"45\\u5206\\u949f\\u4ee5\\u4e0a\",\n                    \"value\": 0.27446689778528344\n                }\n            ],\n            \"radius\": [\n                \"40%\",\n                \"55%\"\n            ],\n            \"center\": [\n                \"50%\",\n                \"50%\"\n            ],\n            \"label\": {\n                \"show\": true,\n                \"position\": \"outside\",\n                \"margin\": 8,\n                \"formatter\": \"{b|{b}: }{per|{d}%}  \",\n                \"backgroundColor\": \"#eee\",\n                \"borderColor\": \"#aaa\",\n                \"borderWidth\": 1,\n                \"borderRadius\": 4,\n                \"rich\": {\n                    \"a\": {\n                        \"color\": \"#999\",\n                        \"lineHeight\": 22,\n                        \"align\": \"center\"\n                    },\n                    \"abg\": {\n                        \"backgroundColor\": \"#e3e3e3\",\n                        \"width\": \"100%\",\n                        \"align\": \"right\",\n                        \"height\": 22,\n                        \"borderRadius\": [\n                            4,\n                            4,\n                            0,\n                            0\n                        ]\n                    },\n                    \"hr\": {\n                        \"borderColor\": \"#aaa\",\n                        \"width\": \"100%\",\n                        \"borderWidth\": 0.5,\n                        \"height\": 0\n                    },\n                    \"b\": {\n                        \"fontSize\": 16,\n                        \"lineHeight\": 33\n                    },\n                    \"per\": {\n                        \"color\": \"#eee\",\n                        \"backgroundColor\": \"#334455\",\n                        \"padding\": [\n                            2,\n                            4\n                        ],\n                        \"borderRadius\": 2\n                    }\n                }\n            }\n        }\n    ],\n    \"legend\": [\n        {\n            \"data\": [\n                \"20\\u5206\\u949f\",\n                \"20\\uff5e30\\u5206\\u949f\",\n                \"30\\uff5e45\\u5206\\u949f\",\n                \"45\\u5206\\u949f\\u4ee5\\u4e0a\"\n            ],\n            \"selected\": {},\n            \"show\": true,\n            \"padding\": 5,\n            \"itemGap\": 10,\n            \"itemWidth\": 25,\n            \"itemHeight\": 14\n        }\n    ],\n    \"tooltip\": {\n        \"show\": true,\n        \"trigger\": \"item\",\n        \"triggerOn\": \"mousemove|click\",\n        \"axisPointer\": {\n            \"type\": \"line\"\n        },\n        \"showContent\": true,\n        \"alwaysShowContent\": false,\n        \"showDelay\": 0,\n        \"hideDelay\": 100,\n        \"textStyle\": {\n            \"fontSize\": 14\n        },\n        \"borderWidth\": 0,\n        \"padding\": 5\n    },\n    \"title\": [\n        {\n            \"text\": \"\\u5b66\\u751f\\u4e0a\\u8bfe\\u65f6\\u957f\\u60c5\\u51b5\\u7edf\\u8ba1\",\n            \"padding\": 5,\n            \"itemGap\": 10\n        }\n    ]\n};\n                chart_05001da7136b4e1fbbff955aae21b827.setOption(option_05001da7136b4e1fbbff955aae21b827);\n        });\n    </script>\n"
     },
     "metadata": {},
     "execution_count": 114
    }
   ],
   "source": [
    "\n",
    "keys = ['20分钟', '20～30分钟', '30～45分钟', '45分钟以上']\n",
    "res = [data[21].value_counts()[idx] for idx in range(1,5)]\n",
    "res = numpy.array(res)\n",
    "res = res / res.sum()\n",
    "res = [list(x) for x in zip(keys, res)]\n",
    "\n",
    "pie = (\n",
    "    Pie()\n",
    "    .add(\n",
    "        \"\",\n",
    "        res,\n",
    "        radius=[\"40%\", \"55%\"],\n",
    "        label_opts=PIE_SETTINGS\n",
    "    )\n",
    "    .set_global_opts(title_opts=opts.TitleOpts(title=\"学生上课时长情况统计\"))\n",
    ")\n",
    "pie.render_notebook()"
   ]
  },
  {
   "cell_type": "code",
   "execution_count": 115,
   "metadata": {},
   "outputs": [
    {
     "output_type": "execute_result",
     "data": {
      "text/plain": [
       "<pyecharts.render.display.HTML at 0x129bd12e0>"
      ],
      "text/html": "\n<script>\n    require.config({\n        paths: {\n            'echarts':'https://assets.pyecharts.org/assets/echarts.min'\n        }\n    });\n</script>\n\n        <div id=\"261dd0fd91dd45d38341ad94c14a151e\" style=\"width:900px; height:500px;\"></div>\n\n<script>\n        require(['echarts'], function(echarts) {\n                var chart_261dd0fd91dd45d38341ad94c14a151e = echarts.init(\n                    document.getElementById('261dd0fd91dd45d38341ad94c14a151e'), 'white', {renderer: 'canvas'});\n                var option_261dd0fd91dd45d38341ad94c14a151e = {\n    \"animation\": true,\n    \"animationThreshold\": 2000,\n    \"animationDuration\": 1000,\n    \"animationEasing\": \"cubicOut\",\n    \"animationDelay\": 0,\n    \"animationDurationUpdate\": 300,\n    \"animationEasingUpdate\": \"cubicOut\",\n    \"animationDelayUpdate\": 0,\n    \"color\": [\n        \"#c23531\",\n        \"#2f4554\",\n        \"#61a0a8\",\n        \"#d48265\",\n        \"#749f83\",\n        \"#ca8622\",\n        \"#bda29a\",\n        \"#6e7074\",\n        \"#546570\",\n        \"#c4ccd3\",\n        \"#f05b72\",\n        \"#ef5b9c\",\n        \"#f47920\",\n        \"#905a3d\",\n        \"#fab27b\",\n        \"#2a5caa\",\n        \"#444693\",\n        \"#726930\",\n        \"#b2d235\",\n        \"#6d8346\",\n        \"#ac6767\",\n        \"#1d953f\",\n        \"#6950a1\",\n        \"#918597\"\n    ],\n    \"series\": [\n        {\n            \"type\": \"bar\",\n            \"name\": \"\\u4eba\\u6570\",\n            \"legendHoverLink\": true,\n            \"data\": [\n                2673,\n                37273,\n                79150,\n                127986,\n                85620,\n                72105,\n                111348,\n                49684,\n                44553,\n                47319,\n                24974,\n                8872,\n                18545,\n                5708,\n                3099,\n                31932\n            ],\n            \"showBackground\": false,\n            \"barMinHeight\": 0,\n            \"barCategoryGap\": \"20%\",\n            \"barGap\": \"30%\",\n            \"large\": false,\n            \"largeThreshold\": 400,\n            \"seriesLayoutBy\": \"column\",\n            \"datasetIndex\": 0,\n            \"clip\": true,\n            \"zlevel\": 0,\n            \"z\": 2,\n            \"label\": {\n                \"show\": true,\n                \"position\": \"top\",\n                \"margin\": 8\n            }\n        }\n    ],\n    \"legend\": [\n        {\n            \"data\": [\n                \"\\u4eba\\u6570\"\n            ],\n            \"selected\": {\n                \"\\u4eba\\u6570\": true\n            },\n            \"show\": true,\n            \"padding\": 5,\n            \"itemGap\": 10,\n            \"itemWidth\": 25,\n            \"itemHeight\": 14\n        }\n    ],\n    \"tooltip\": {\n        \"show\": true,\n        \"trigger\": \"item\",\n        \"triggerOn\": \"mousemove|click\",\n        \"axisPointer\": {\n            \"type\": \"line\"\n        },\n        \"showContent\": true,\n        \"alwaysShowContent\": false,\n        \"showDelay\": 0,\n        \"hideDelay\": 100,\n        \"textStyle\": {\n            \"fontSize\": 14\n        },\n        \"borderWidth\": 0,\n        \"padding\": 5\n    },\n    \"xAxis\": [\n        {\n            \"show\": true,\n            \"scale\": false,\n            \"nameLocation\": \"end\",\n            \"nameGap\": 15,\n            \"gridIndex\": 0,\n            \"inverse\": false,\n            \"offset\": 0,\n            \"splitNumber\": 5,\n            \"minInterval\": 0,\n            \"splitLine\": {\n                \"show\": false,\n                \"lineStyle\": {\n                    \"show\": true,\n                    \"width\": 1,\n                    \"opacity\": 1,\n                    \"curveness\": 0,\n                    \"type\": \"solid\"\n                }\n            },\n            \"data\": [\n                0,\n                1,\n                2,\n                3,\n                4,\n                5,\n                6,\n                7,\n                8,\n                9,\n                10,\n                11,\n                12,\n                13,\n                14,\n                15\n            ]\n        }\n    ],\n    \"yAxis\": [\n        {\n            \"show\": true,\n            \"scale\": false,\n            \"nameLocation\": \"end\",\n            \"nameGap\": 15,\n            \"gridIndex\": 0,\n            \"inverse\": false,\n            \"offset\": 0,\n            \"splitNumber\": 5,\n            \"minInterval\": 0,\n            \"splitLine\": {\n                \"show\": false,\n                \"lineStyle\": {\n                    \"show\": true,\n                    \"width\": 1,\n                    \"opacity\": 1,\n                    \"curveness\": 0,\n                    \"type\": \"solid\"\n                }\n            }\n        }\n    ],\n    \"title\": [\n        {\n            \"text\": \"\\u5b66\\u751f\\u6bcf\\u5929\\u5728\\u7ebf\\u5b66\\u4e60\\u65f6\\u95f4\\u7edf\\u8ba1\",\n            \"padding\": 5,\n            \"itemGap\": 10\n        }\n    ]\n};\n                chart_261dd0fd91dd45d38341ad94c14a151e.setOption(option_261dd0fd91dd45d38341ad94c14a151e);\n        });\n    </script>\n"
     },
     "metadata": {},
     "execution_count": 115
    }
   ],
   "source": [
    "# 每天在线学习时间分析\n",
    "res = [int(data[22].value_counts()[idx]) for idx in range(0,16)]\n",
    "\n",
    "bar = (\n",
    "    Bar()\n",
    "    .add_xaxis(list(range(0,16)))\n",
    "    .add_yaxis('人数', res)\n",
    "    .set_global_opts(\n",
    "        title_opts=opts.TitleOpts(title=\"学生每天在线学习时间统计\"),\n",
    "        legend_opts=opts.LegendOpts(is_show=True)\n",
    "    )\n",
    ")\n",
    "bar.render_notebook()"
   ]
  },
  {
   "cell_type": "code",
   "execution_count": 116,
   "metadata": {
    "pycharm": {
     "name": "#%%\n"
    }
   },
   "outputs": [
    {
     "output_type": "execute_result",
     "data": {
      "text/plain": [
       "<pyecharts.render.display.HTML at 0x1284b9790>"
      ],
      "text/html": "\n<script>\n    require.config({\n        paths: {\n            'echarts':'https://assets.pyecharts.org/assets/echarts.min'\n        }\n    });\n</script>\n\n        <div id=\"75b1f0bb398a4b44a0358bf32c76edbe\" style=\"width:900px; height:500px;\"></div>\n\n<script>\n        require(['echarts'], function(echarts) {\n                var chart_75b1f0bb398a4b44a0358bf32c76edbe = echarts.init(\n                    document.getElementById('75b1f0bb398a4b44a0358bf32c76edbe'), 'white', {renderer: 'canvas'});\n                var option_75b1f0bb398a4b44a0358bf32c76edbe = {\n    \"animation\": true,\n    \"animationThreshold\": 2000,\n    \"animationDuration\": 1000,\n    \"animationEasing\": \"cubicOut\",\n    \"animationDelay\": 0,\n    \"animationDurationUpdate\": 300,\n    \"animationEasingUpdate\": \"cubicOut\",\n    \"animationDelayUpdate\": 0,\n    \"color\": [\n        \"#c23531\",\n        \"#2f4554\",\n        \"#61a0a8\",\n        \"#d48265\",\n        \"#749f83\",\n        \"#ca8622\",\n        \"#bda29a\",\n        \"#6e7074\",\n        \"#546570\",\n        \"#c4ccd3\",\n        \"#f05b72\",\n        \"#ef5b9c\",\n        \"#f47920\",\n        \"#905a3d\",\n        \"#fab27b\",\n        \"#2a5caa\",\n        \"#444693\",\n        \"#726930\",\n        \"#b2d235\",\n        \"#6d8346\",\n        \"#ac6767\",\n        \"#1d953f\",\n        \"#6950a1\",\n        \"#918597\"\n    ],\n    \"series\": [\n        {\n            \"type\": \"pie\",\n            \"clockwise\": true,\n            \"data\": [\n                {\n                    \"name\": \"\\u80fd\",\n                    \"value\": 0.35683187252693976\n                },\n                {\n                    \"name\": \"\\u76d1\\u7763\\u4e0b\\u80fd\",\n                    \"value\": 0.13813044306317848\n                },\n                {\n                    \"name\": \"\\u6709\\u65f6\\u80fd,\\u6709\\u65f6\\u4e0d\\u80fd\",\n                    \"value\": 0.4097565263484546\n                },\n                {\n                    \"name\": \"\\u57fa\\u672c\\u4e0d\\u80fd\",\n                    \"value\": 0.04120712640892013\n                },\n                {\n                    \"name\": \"\\u4e0d\\u9002\\u5e94\",\n                    \"value\": 0.05407403165250699\n                }\n            ],\n            \"radius\": [\n                \"40%\",\n                \"55%\"\n            ],\n            \"center\": [\n                \"50%\",\n                \"50%\"\n            ],\n            \"label\": {\n                \"show\": true,\n                \"position\": \"outside\",\n                \"margin\": 8,\n                \"formatter\": \"{b|{b}: }{per|{d}%}  \",\n                \"backgroundColor\": \"#eee\",\n                \"borderColor\": \"#aaa\",\n                \"borderWidth\": 1,\n                \"borderRadius\": 4,\n                \"rich\": {\n                    \"a\": {\n                        \"color\": \"#999\",\n                        \"lineHeight\": 22,\n                        \"align\": \"center\"\n                    },\n                    \"abg\": {\n                        \"backgroundColor\": \"#e3e3e3\",\n                        \"width\": \"100%\",\n                        \"align\": \"right\",\n                        \"height\": 22,\n                        \"borderRadius\": [\n                            4,\n                            4,\n                            0,\n                            0\n                        ]\n                    },\n                    \"hr\": {\n                        \"borderColor\": \"#aaa\",\n                        \"width\": \"100%\",\n                        \"borderWidth\": 0.5,\n                        \"height\": 0\n                    },\n                    \"b\": {\n                        \"fontSize\": 16,\n                        \"lineHeight\": 33\n                    },\n                    \"per\": {\n                        \"color\": \"#eee\",\n                        \"backgroundColor\": \"#334455\",\n                        \"padding\": [\n                            2,\n                            4\n                        ],\n                        \"borderRadius\": 2\n                    }\n                }\n            }\n        }\n    ],\n    \"legend\": [\n        {\n            \"data\": [\n                \"\\u80fd\",\n                \"\\u76d1\\u7763\\u4e0b\\u80fd\",\n                \"\\u6709\\u65f6\\u80fd,\\u6709\\u65f6\\u4e0d\\u80fd\",\n                \"\\u57fa\\u672c\\u4e0d\\u80fd\",\n                \"\\u4e0d\\u9002\\u5e94\"\n            ],\n            \"selected\": {},\n            \"show\": true,\n            \"padding\": 5,\n            \"itemGap\": 10,\n            \"itemWidth\": 25,\n            \"itemHeight\": 14\n        }\n    ],\n    \"tooltip\": {\n        \"show\": true,\n        \"trigger\": \"item\",\n        \"triggerOn\": \"mousemove|click\",\n        \"axisPointer\": {\n            \"type\": \"line\"\n        },\n        \"showContent\": true,\n        \"alwaysShowContent\": false,\n        \"showDelay\": 0,\n        \"hideDelay\": 100,\n        \"textStyle\": {\n            \"fontSize\": 14\n        },\n        \"borderWidth\": 0,\n        \"padding\": 5\n    },\n    \"title\": [\n        {\n            \"text\": \"\\u5b66\\u751f\\u72b6\\u6001\\u7edf\\u8ba1\",\n            \"padding\": 5,\n            \"itemGap\": 10\n        }\n    ]\n};\n                chart_75b1f0bb398a4b44a0358bf32c76edbe.setOption(option_75b1f0bb398a4b44a0358bf32c76edbe);\n        });\n    </script>\n"
     },
     "metadata": {},
     "execution_count": 116
    }
   ],
   "source": [
    "keys = [\"能\",\"监督下能\",\"有时能,有时不能\",\"基本不能\",\"不适应\"]\n",
    "res = [data[23].value_counts()[idx] for idx in range(1,6)]\n",
    "res = numpy.array(res)\n",
    "res = res / res.sum()\n",
    "res = [list(x) for x in zip(keys,values)]\n",
    "\n",
    "pie = (\n",
    "    Pie()\n",
    "    .add(\n",
    "        \"\",\n",
    "        res,\n",
    "        radius=[\"40%\", \"55%\"],\n",
    "        label_opts=PIE_SETTINGS\n",
    "    )\n",
    "    .set_global_opts(title_opts=opts.TitleOpts(title=\"学生状态统计\"))\n",
    ")\n",
    "pie.render_notebook()"
   ]
  },
  {
   "cell_type": "code",
   "execution_count": 117,
   "metadata": {
    "pycharm": {
     "name": "#%%学习时候是否需要家人陪伴\n"
    }
   },
   "outputs": [
    {
     "output_type": "execute_result",
     "data": {
      "text/plain": [
       "<pyecharts.render.display.HTML at 0x125f047c0>"
      ],
      "text/html": "\n<script>\n    require.config({\n        paths: {\n            'echarts':'https://assets.pyecharts.org/assets/echarts.min'\n        }\n    });\n</script>\n\n        <div id=\"00f0820cfb1f4c009bce363dba9a0177\" style=\"width:900px; height:500px;\"></div>\n\n<script>\n        require(['echarts'], function(echarts) {\n                var chart_00f0820cfb1f4c009bce363dba9a0177 = echarts.init(\n                    document.getElementById('00f0820cfb1f4c009bce363dba9a0177'), 'white', {renderer: 'canvas'});\n                var option_00f0820cfb1f4c009bce363dba9a0177 = {\n    \"animation\": true,\n    \"animationThreshold\": 2000,\n    \"animationDuration\": 1000,\n    \"animationEasing\": \"cubicOut\",\n    \"animationDelay\": 0,\n    \"animationDurationUpdate\": 300,\n    \"animationEasingUpdate\": \"cubicOut\",\n    \"animationDelayUpdate\": 0,\n    \"color\": [\n        \"#c23531\",\n        \"#2f4554\",\n        \"#61a0a8\",\n        \"#d48265\",\n        \"#749f83\",\n        \"#ca8622\",\n        \"#bda29a\",\n        \"#6e7074\",\n        \"#546570\",\n        \"#c4ccd3\",\n        \"#f05b72\",\n        \"#ef5b9c\",\n        \"#f47920\",\n        \"#905a3d\",\n        \"#fab27b\",\n        \"#2a5caa\",\n        \"#444693\",\n        \"#726930\",\n        \"#b2d235\",\n        \"#6d8346\",\n        \"#ac6767\",\n        \"#1d953f\",\n        \"#6950a1\",\n        \"#918597\"\n    ],\n    \"series\": [\n        {\n            \"type\": \"pie\",\n            \"clockwise\": true,\n            \"data\": [\n                {\n                    \"name\": \"\\u5b8c\\u5168\\u4e0d\\u9700\\u8981\",\n                    \"value\": 0.35683187252693976\n                },\n                {\n                    \"name\": \"\\u6709\\u65f6\\u9700\\u8981\",\n                    \"value\": 0.13813044306317848\n                },\n                {\n                    \"name\": \"\\u5b8c\\u5168\\u9700\\u8981\",\n                    \"value\": 0.4097565263484546\n                }\n            ],\n            \"radius\": [\n                \"40%\",\n                \"55%\"\n            ],\n            \"center\": [\n                \"50%\",\n                \"50%\"\n            ],\n            \"label\": {\n                \"show\": true,\n                \"position\": \"outside\",\n                \"margin\": 8,\n                \"formatter\": \"{b|{b}: }{per|{d}%}  \",\n                \"backgroundColor\": \"#eee\",\n                \"borderColor\": \"#aaa\",\n                \"borderWidth\": 1,\n                \"borderRadius\": 4,\n                \"rich\": {\n                    \"a\": {\n                        \"color\": \"#999\",\n                        \"lineHeight\": 22,\n                        \"align\": \"center\"\n                    },\n                    \"abg\": {\n                        \"backgroundColor\": \"#e3e3e3\",\n                        \"width\": \"100%\",\n                        \"align\": \"right\",\n                        \"height\": 22,\n                        \"borderRadius\": [\n                            4,\n                            4,\n                            0,\n                            0\n                        ]\n                    },\n                    \"hr\": {\n                        \"borderColor\": \"#aaa\",\n                        \"width\": \"100%\",\n                        \"borderWidth\": 0.5,\n                        \"height\": 0\n                    },\n                    \"b\": {\n                        \"fontSize\": 16,\n                        \"lineHeight\": 33\n                    },\n                    \"per\": {\n                        \"color\": \"#eee\",\n                        \"backgroundColor\": \"#334455\",\n                        \"padding\": [\n                            2,\n                            4\n                        ],\n                        \"borderRadius\": 2\n                    }\n                }\n            }\n        }\n    ],\n    \"legend\": [\n        {\n            \"data\": [\n                \"\\u5b8c\\u5168\\u4e0d\\u9700\\u8981\",\n                \"\\u6709\\u65f6\\u9700\\u8981\",\n                \"\\u5b8c\\u5168\\u9700\\u8981\"\n            ],\n            \"selected\": {},\n            \"show\": true,\n            \"padding\": 5,\n            \"itemGap\": 10,\n            \"itemWidth\": 25,\n            \"itemHeight\": 14\n        }\n    ],\n    \"tooltip\": {\n        \"show\": true,\n        \"trigger\": \"item\",\n        \"triggerOn\": \"mousemove|click\",\n        \"axisPointer\": {\n            \"type\": \"line\"\n        },\n        \"showContent\": true,\n        \"alwaysShowContent\": false,\n        \"showDelay\": 0,\n        \"hideDelay\": 100,\n        \"textStyle\": {\n            \"fontSize\": 14\n        },\n        \"borderWidth\": 0,\n        \"padding\": 5\n    },\n    \"title\": [\n        {\n            \"text\": \"\\u5b66\\u4e60\\u9700\\u8981\\u5bb6\\u4eba\\u966a\\u4f34\\u7edf\\u8ba1\",\n            \"padding\": 5,\n            \"itemGap\": 10\n        }\n    ]\n};\n                chart_00f0820cfb1f4c009bce363dba9a0177.setOption(option_00f0820cfb1f4c009bce363dba9a0177);\n        });\n    </script>\n"
     },
     "metadata": {},
     "execution_count": 117
    }
   ],
   "source": [
    "keys = [\"完全不需要\",\"有时需要\",\"完全需要\"]\n",
    "res = [data[24].value_counts()[idx] for idx in range(1,4)]\n",
    "res = numpy.array(res)\n",
    "res = res / res.sum()\n",
    "res = [list(x) for x in zip(keys,values)]\n",
    "\n",
    "pie = (\n",
    "    Pie()\n",
    "    .add(\n",
    "        \"\",\n",
    "        res,\n",
    "        radius=['40%', '55%'],\n",
    "        label_opts=PIE_SETTINGS\n",
    "    )\n",
    "    .set_global_opts(title_opts=opts.TitleOpts(title=\"学习需要家人陪伴统计\"))\n",
    ")\n",
    "pie.render_notebook()"
   ]
  },
  {
   "cell_type": "code",
   "execution_count": 118,
   "metadata": {
    "pycharm": {
     "name": "#%%统计学生喜欢的课堂组织形式\n"
    }
   },
   "outputs": [
    {
     "output_type": "execute_result",
     "data": {
      "text/plain": [
       "<pyecharts.render.display.HTML at 0x129bd1040>"
      ],
      "text/html": "\n<script>\n    require.config({\n        paths: {\n            'echarts':'https://assets.pyecharts.org/assets/echarts.min'\n        }\n    });\n</script>\n\n        <div id=\"81df3bda8c114e049e1a13372795e6a0\" style=\"width:900px; height:500px;\"></div>\n\n<script>\n        require(['echarts'], function(echarts) {\n                var chart_81df3bda8c114e049e1a13372795e6a0 = echarts.init(\n                    document.getElementById('81df3bda8c114e049e1a13372795e6a0'), 'white', {renderer: 'canvas'});\n                var option_81df3bda8c114e049e1a13372795e6a0 = {\n    \"animation\": true,\n    \"animationThreshold\": 2000,\n    \"animationDuration\": 1000,\n    \"animationEasing\": \"cubicOut\",\n    \"animationDelay\": 0,\n    \"animationDurationUpdate\": 300,\n    \"animationEasingUpdate\": \"cubicOut\",\n    \"animationDelayUpdate\": 0,\n    \"color\": [\n        \"#c23531\",\n        \"#2f4554\",\n        \"#61a0a8\",\n        \"#d48265\",\n        \"#749f83\",\n        \"#ca8622\",\n        \"#bda29a\",\n        \"#6e7074\",\n        \"#546570\",\n        \"#c4ccd3\",\n        \"#f05b72\",\n        \"#ef5b9c\",\n        \"#f47920\",\n        \"#905a3d\",\n        \"#fab27b\",\n        \"#2a5caa\",\n        \"#444693\",\n        \"#726930\",\n        \"#b2d235\",\n        \"#6d8346\",\n        \"#ac6767\",\n        \"#1d953f\",\n        \"#6950a1\",\n        \"#918597\"\n    ],\n    \"series\": [\n        {\n            \"type\": \"bar\",\n            \"legendHoverLink\": true,\n            \"data\": [\n                0.24914146926945613,\n                0.1126603292872989,\n                0.06496017536603736,\n                0.10310666235284054,\n                0.10411972539880915,\n                0.06132279662003575,\n                0.04330571155297098,\n                0.0902944700908412,\n                0.17108866006171\n            ],\n            \"showBackground\": false,\n            \"barMinHeight\": 0,\n            \"barCategoryGap\": \"20%\",\n            \"barGap\": \"30%\",\n            \"large\": false,\n            \"largeThreshold\": 400,\n            \"seriesLayoutBy\": \"column\",\n            \"datasetIndex\": 0,\n            \"clip\": true,\n            \"zlevel\": 0,\n            \"z\": 2,\n            \"label\": {\n                \"show\": true,\n                \"position\": \"top\",\n                \"margin\": 8,\n                \"formatter\": function(x){return Number(x.data*100).toFixed() + '%';}\n            },\n            \"rippleEffect\": {\n                \"show\": true,\n                \"brushType\": \"stroke\",\n                \"scale\": 2.5,\n                \"period\": 4\n            }\n        }\n    ],\n    \"legend\": [\n        {\n            \"data\": [\n                \"\"\n            ],\n            \"selected\": {\n                \"\": true\n            },\n            \"show\": true,\n            \"padding\": 5,\n            \"itemGap\": 10,\n            \"itemWidth\": 25,\n            \"itemHeight\": 14\n        }\n    ],\n    \"tooltip\": {\n        \"show\": true,\n        \"trigger\": \"item\",\n        \"triggerOn\": \"mousemove|click\",\n        \"axisPointer\": {\n            \"type\": \"line\"\n        },\n        \"showContent\": true,\n        \"alwaysShowContent\": false,\n        \"showDelay\": 0,\n        \"hideDelay\": 100,\n        \"textStyle\": {\n            \"fontSize\": 14\n        },\n        \"borderWidth\": 0,\n        \"padding\": 5\n    },\n    \"xAxis\": [\n        {\n            \"show\": true,\n            \"scale\": false,\n            \"nameLocation\": \"end\",\n            \"nameGap\": 15,\n            \"gridIndex\": 0,\n            \"axisLabel\": {\n                \"show\": true,\n                \"position\": \"top\",\n                \"rotate\": 30,\n                \"margin\": 8\n            },\n            \"inverse\": false,\n            \"offset\": 0,\n            \"splitNumber\": 5,\n            \"minInterval\": 0,\n            \"splitLine\": {\n                \"show\": false,\n                \"lineStyle\": {\n                    \"show\": true,\n                    \"width\": 1,\n                    \"opacity\": 1,\n                    \"curveness\": 0,\n                    \"type\": \"solid\"\n                }\n            },\n            \"data\": [\n                \"\\u76f4\\u64ad\",\n                \"\\u5f55\\u64ad\",\n                \"\\u8d44\\u6e90\\u5305\",\n                \"\\u7535\\u89c6\\u8bfe\\u5802\",\n                \"\\u76f4\\u64ad+\\u5f55\\u64ad\",\n                \"\\u76f4\\u64ad+\\u8d44\\u6e90\\u5305\",\n                \"\\u5f55\\u64ad+\\u8d44\\u6e90\\u5305\",\n                \"\\u76f4\\u64ad+\\u5f55\\u64ad+\\u8d44\\u6e90\\u5305\",\n                \"\\u5f55\\u64ad+\\u8d44\\u6e90\\u5305+\\u7ebf\\u4e0a\\u8f85\\u5bfc\\u7b54\\u7591\"\n            ]\n        }\n    ],\n    \"yAxis\": [\n        {\n            \"show\": true,\n            \"scale\": false,\n            \"nameLocation\": \"end\",\n            \"nameGap\": 15,\n            \"gridIndex\": 0,\n            \"inverse\": false,\n            \"offset\": 0,\n            \"splitNumber\": 5,\n            \"minInterval\": 0,\n            \"splitLine\": {\n                \"show\": false,\n                \"lineStyle\": {\n                    \"show\": true,\n                    \"width\": 1,\n                    \"opacity\": 1,\n                    \"curveness\": 0,\n                    \"type\": \"solid\"\n                }\n            }\n        }\n    ],\n    \"title\": [\n        {\n            \"text\": \"\\u7edf\\u8ba1\\u5b66\\u751f\\u559c\\u6b22\\u7684\\u8bfe\\u5802\\u7ec4\\u7ec7\\u5f62\\u5f0f\",\n            \"padding\": 5,\n            \"itemGap\": 10\n        }\n    ]\n};\n                chart_81df3bda8c114e049e1a13372795e6a0.setOption(option_81df3bda8c114e049e1a13372795e6a0);\n        });\n    </script>\n"
     },
     "metadata": {},
     "execution_count": 118
    }
   ],
   "source": [
    "keys = [\"直播\",\"录播\",\"资源包\",\"电视课堂\",\"直播+录播\",\"直播+资源包\",\"录播+资源包\",\"直播+录播+资源包\",\"录播+资源包+线上辅导答疑\"]\n",
    "res = [int(data[idx].value_counts()[1]) for idx in range(25,34)]\n",
    "res = numpy.array(res)\n",
    "res = res / res.sum()\n",
    "\n",
    "bar = (\n",
    "    Bar()\n",
    "    .add_xaxis(keys)\n",
    "    .add_yaxis(\"\", list(res))\n",
    "    .set_global_opts(\n",
    "        xaxis_opts=opts.AxisOpts(axislabel_opts=opts.LabelOpts(rotate=30)),\n",
    "        title_opts=opts.TitleOpts(title=\"统计学生喜欢的课堂组织形式\")\n",
    "    )\n",
    "    .set_series_opts(\n",
    "        label_opts=opts.LabelOpts(\n",
    "            position=\"top\",\n",
    "            formatter=JsCode(\n",
    "                \"function(x){return Number(x.data*100).toFixed() + '%';}\"\n",
    "            ),\n",
    "        )\n",
    "    )\n",
    ")\n",
    "bar.render_notebook()"
   ]
  },
  {
   "cell_type": "code",
   "execution_count": 119,
   "metadata": {
    "pycharm": {
     "name": "#%% 统计学生喜欢的线上课程内容\n"
    }
   },
   "outputs": [
    {
     "output_type": "execute_result",
     "data": {
      "text/plain": [
       "<pyecharts.render.display.HTML at 0x12899cc70>"
      ],
      "text/html": "\n<script>\n    require.config({\n        paths: {\n            'echarts':'https://assets.pyecharts.org/assets/echarts.min'\n        }\n    });\n</script>\n\n        <div id=\"c57cc36528414183b681a703952f0407\" style=\"width:900px; height:500px;\"></div>\n\n<script>\n        require(['echarts'], function(echarts) {\n                var chart_c57cc36528414183b681a703952f0407 = echarts.init(\n                    document.getElementById('c57cc36528414183b681a703952f0407'), 'white', {renderer: 'canvas'});\n                var option_c57cc36528414183b681a703952f0407 = {\n    \"animation\": true,\n    \"animationThreshold\": 2000,\n    \"animationDuration\": 1000,\n    \"animationEasing\": \"cubicOut\",\n    \"animationDelay\": 0,\n    \"animationDurationUpdate\": 300,\n    \"animationEasingUpdate\": \"cubicOut\",\n    \"animationDelayUpdate\": 0,\n    \"color\": [\n        \"#c23531\",\n        \"#2f4554\",\n        \"#61a0a8\",\n        \"#d48265\",\n        \"#749f83\",\n        \"#ca8622\",\n        \"#bda29a\",\n        \"#6e7074\",\n        \"#546570\",\n        \"#c4ccd3\",\n        \"#f05b72\",\n        \"#ef5b9c\",\n        \"#f47920\",\n        \"#905a3d\",\n        \"#fab27b\",\n        \"#2a5caa\",\n        \"#444693\",\n        \"#726930\",\n        \"#b2d235\",\n        \"#6d8346\",\n        \"#ac6767\",\n        \"#1d953f\",\n        \"#6950a1\",\n        \"#918597\"\n    ],\n    \"series\": [\n        {\n            \"type\": \"bar\",\n            \"legendHoverLink\": true,\n            \"data\": [\n                0.3604118075558199,\n                0.286390145667511,\n                0.16662322705107385,\n                0.18657481972559528\n            ],\n            \"showBackground\": false,\n            \"barMinHeight\": 0,\n            \"barCategoryGap\": \"20%\",\n            \"barGap\": \"30%\",\n            \"large\": false,\n            \"largeThreshold\": 400,\n            \"seriesLayoutBy\": \"column\",\n            \"datasetIndex\": 0,\n            \"clip\": true,\n            \"zlevel\": 0,\n            \"z\": 2,\n            \"label\": {\n                \"show\": true,\n                \"position\": \"top\",\n                \"margin\": 8,\n                \"formatter\": function(x){return Number(x.data*100).toFixed() + '%';}\n            },\n            \"rippleEffect\": {\n                \"show\": true,\n                \"brushType\": \"stroke\",\n                \"scale\": 2.5,\n                \"period\": 4\n            }\n        }\n    ],\n    \"legend\": [\n        {\n            \"data\": [\n                \"\"\n            ],\n            \"selected\": {\n                \"\": true\n            },\n            \"show\": true,\n            \"padding\": 5,\n            \"itemGap\": 10,\n            \"itemWidth\": 25,\n            \"itemHeight\": 14\n        }\n    ],\n    \"tooltip\": {\n        \"show\": true,\n        \"trigger\": \"item\",\n        \"triggerOn\": \"mousemove|click\",\n        \"axisPointer\": {\n            \"type\": \"line\"\n        },\n        \"showContent\": true,\n        \"alwaysShowContent\": false,\n        \"showDelay\": 0,\n        \"hideDelay\": 100,\n        \"textStyle\": {\n            \"fontSize\": 14\n        },\n        \"borderWidth\": 0,\n        \"padding\": 5\n    },\n    \"xAxis\": [\n        {\n            \"show\": true,\n            \"scale\": false,\n            \"nameLocation\": \"end\",\n            \"nameGap\": 15,\n            \"gridIndex\": 0,\n            \"inverse\": false,\n            \"offset\": 0,\n            \"splitNumber\": 5,\n            \"minInterval\": 0,\n            \"splitLine\": {\n                \"show\": false,\n                \"lineStyle\": {\n                    \"show\": true,\n                    \"width\": 1,\n                    \"opacity\": 1,\n                    \"curveness\": 0,\n                    \"type\": \"solid\"\n                }\n            },\n            \"data\": [\n                \"\\u5b66\\u79d1\\u8bfe\\u7a0b\\u65b0\\u8bfe\",\n                \"\\u5b66\\u79d1\\u8bfe\\u7a0b\\u590d\\u4e60\",\n                \"\\u97f3\\u7f8e\\u4f53\\u52b3\\u6559\\u80b2\",\n                \"\\u4e13\\u9898\\u6559\\u80b2\"\n            ]\n        }\n    ],\n    \"yAxis\": [\n        {\n            \"show\": true,\n            \"scale\": false,\n            \"nameLocation\": \"end\",\n            \"nameGap\": 15,\n            \"gridIndex\": 0,\n            \"inverse\": false,\n            \"offset\": 0,\n            \"splitNumber\": 5,\n            \"minInterval\": 0,\n            \"splitLine\": {\n                \"show\": false,\n                \"lineStyle\": {\n                    \"show\": true,\n                    \"width\": 1,\n                    \"opacity\": 1,\n                    \"curveness\": 0,\n                    \"type\": \"solid\"\n                }\n            }\n        }\n    ],\n    \"title\": [\n        {\n            \"text\": \"\\u7edf\\u8ba1\\u5b66\\u751f\\u5bf9\\u7ebf\\u4e0a\\u8bfe\\u7a0b\\u5185\\u5bb9\\u7684\\u559c\\u7231\\u60c5\\u51b5\",\n            \"padding\": 5,\n            \"itemGap\": 10\n        }\n    ]\n};\n                chart_c57cc36528414183b681a703952f0407.setOption(option_c57cc36528414183b681a703952f0407);\n        });\n    </script>\n"
     },
     "metadata": {},
     "execution_count": 119
    }
   ],
   "source": [
    "keys = [\"学科课程新课\",\"学科课程复习\",\"音美体劳教育\",\"专题教育\"]\n",
    "res = [data[idx].value_counts()[1] for idx in range(34,38)]\n",
    "res = numpy.array(res)\n",
    "res = res / res.sum()\n",
    "\n",
    "bar = (\n",
    "    Bar()\n",
    "    .add_xaxis(keys)\n",
    "    .add_yaxis('', list(res))\n",
    "    .set_global_opts(\n",
    "        title_opts=opts.TitleOpts(title=\"统计学生对线上课程内容的喜爱情况\"),\n",
    "    )\n",
    "    .set_series_opts(\n",
    "        label_opts=opts.LabelOpts(\n",
    "            position=\"top\",\n",
    "            formatter=JsCode(\n",
    "                \"function(x){return Number(x.data*100).toFixed() + '%';}\"\n",
    "            ),\n",
    "        )\n",
    "    )\n",
    ")\n",
    "bar.render_notebook()"
   ]
  },
  {
   "cell_type": "code",
   "execution_count": 129,
   "metadata": {
    "pycharm": {
     "name": "#%% 统计学生用哪些方法解决未掌握知识点\n"
    }
   },
   "outputs": [
    {
     "output_type": "stream",
     "name": "stdout",
     "text": [
      "1716249\n"
     ]
    },
    {
     "output_type": "execute_result",
     "data": {
      "text/plain": [
       "<pyecharts.render.display.HTML at 0x125cd83a0>"
      ],
      "text/html": "\n<script>\n    require.config({\n        paths: {\n            'echarts':'https://assets.pyecharts.org/assets/echarts.min'\n        }\n    });\n</script>\n\n        <div id=\"97f5881f242643d2adc0c5a225d391db\" style=\"width:900px; height:500px;\"></div>\n\n<script>\n        require(['echarts'], function(echarts) {\n                var chart_97f5881f242643d2adc0c5a225d391db = echarts.init(\n                    document.getElementById('97f5881f242643d2adc0c5a225d391db'), 'white', {renderer: 'canvas'});\n                var option_97f5881f242643d2adc0c5a225d391db = {\n    \"animation\": true,\n    \"animationThreshold\": 2000,\n    \"animationDuration\": 1000,\n    \"animationEasing\": \"cubicOut\",\n    \"animationDelay\": 0,\n    \"animationDurationUpdate\": 300,\n    \"animationEasingUpdate\": \"cubicOut\",\n    \"animationDelayUpdate\": 0,\n    \"color\": [\n        \"#c23531\",\n        \"#2f4554\",\n        \"#61a0a8\",\n        \"#d48265\",\n        \"#749f83\",\n        \"#ca8622\",\n        \"#bda29a\",\n        \"#6e7074\",\n        \"#546570\",\n        \"#c4ccd3\",\n        \"#f05b72\",\n        \"#ef5b9c\",\n        \"#f47920\",\n        \"#905a3d\",\n        \"#fab27b\",\n        \"#2a5caa\",\n        \"#444693\",\n        \"#726930\",\n        \"#b2d235\",\n        \"#6d8346\",\n        \"#ac6767\",\n        \"#1d953f\",\n        \"#6950a1\",\n        \"#918597\"\n    ],\n    \"series\": [\n        {\n            \"type\": \"bar\",\n            \"legendHoverLink\": true,\n            \"data\": [\n                0.21318759690464495,\n                0.3110329561736088,\n                0.12356715138654123,\n                0.15943723783670086,\n                0.14864742819952118,\n                0.044127629498982954\n            ],\n            \"showBackground\": false,\n            \"barMinHeight\": 0,\n            \"barCategoryGap\": \"20%\",\n            \"barGap\": \"30%\",\n            \"large\": false,\n            \"largeThreshold\": 400,\n            \"seriesLayoutBy\": \"column\",\n            \"datasetIndex\": 0,\n            \"clip\": true,\n            \"zlevel\": 0,\n            \"z\": 2,\n            \"label\": {\n                \"show\": true,\n                \"position\": \"top\",\n                \"margin\": 8,\n                \"formatter\": function(x){return Number(x.data*100).toFixed() + '%';}\n            },\n            \"rippleEffect\": {\n                \"show\": true,\n                \"brushType\": \"stroke\",\n                \"scale\": 2.5,\n                \"period\": 4\n            }\n        }\n    ],\n    \"legend\": [\n        {\n            \"data\": [\n                \"\"\n            ],\n            \"selected\": {\n                \"\": true\n            },\n            \"show\": true,\n            \"padding\": 5,\n            \"itemGap\": 10,\n            \"itemWidth\": 25,\n            \"itemHeight\": 14\n        }\n    ],\n    \"tooltip\": {\n        \"show\": true,\n        \"trigger\": \"item\",\n        \"triggerOn\": \"mousemove|click\",\n        \"axisPointer\": {\n            \"type\": \"line\"\n        },\n        \"showContent\": true,\n        \"alwaysShowContent\": false,\n        \"showDelay\": 0,\n        \"hideDelay\": 100,\n        \"textStyle\": {\n            \"fontSize\": 14\n        },\n        \"borderWidth\": 0,\n        \"padding\": 5\n    },\n    \"xAxis\": [\n        {\n            \"show\": true,\n            \"scale\": false,\n            \"nameLocation\": \"end\",\n            \"nameGap\": 15,\n            \"gridIndex\": 0,\n            \"axisLabel\": {\n                \"show\": true,\n                \"position\": \"top\",\n                \"rotate\": 30,\n                \"margin\": 8\n            },\n            \"inverse\": false,\n            \"offset\": 0,\n            \"splitNumber\": 5,\n            \"minInterval\": 0,\n            \"splitLine\": {\n                \"show\": false,\n                \"lineStyle\": {\n                    \"show\": true,\n                    \"width\": 1,\n                    \"opacity\": 1,\n                    \"curveness\": 0,\n                    \"type\": \"solid\"\n                }\n            },\n            \"data\": [\n                \"\\u67e5\\u9605\\u7ebf\\u4e0a\\u8d44\\u6e90\",\n                \"\\u89c6\\u9891\\u56de\\u653e\",\n                \"\\u6559\\u5e08\\u7ebf\\u4e0a\\u7b54\\u7591\",\n                \"\\u793e\\u4ea4\\u8f6f\\u4ef6\\u54a8\\u8be2\\u6559\\u5e08\",\n                \"\\u540c\\u5b66\\u4ea4\\u6d41\",\n                \"\\u6682\\u65f6\\u653e\\u4e0b\"\n            ]\n        }\n    ],\n    \"yAxis\": [\n        {\n            \"show\": true,\n            \"scale\": false,\n            \"nameLocation\": \"end\",\n            \"nameGap\": 15,\n            \"gridIndex\": 0,\n            \"inverse\": false,\n            \"offset\": 0,\n            \"splitNumber\": 5,\n            \"minInterval\": 0,\n            \"splitLine\": {\n                \"show\": false,\n                \"lineStyle\": {\n                    \"show\": true,\n                    \"width\": 1,\n                    \"opacity\": 1,\n                    \"curveness\": 0,\n                    \"type\": \"solid\"\n                }\n            }\n        }\n    ],\n    \"title\": [\n        {\n            \"text\": \"\\u7edf\\u8ba1\\u5b66\\u751f\\u901a\\u8fc7\\u54ea\\u4e9b\\u65b9\\u6cd5\\u89e3\\u51b3\\u672a\\u638c\\u63e1\\u77e5\\u8bc6\\u70b9\",\n            \"padding\": 5,\n            \"itemGap\": 10\n        }\n    ]\n};\n                chart_97f5881f242643d2adc0c5a225d391db.setOption(option_97f5881f242643d2adc0c5a225d391db);\n        });\n    </script>\n"
     },
     "metadata": {},
     "execution_count": 129
    }
   ],
   "source": [
    "keys = [\"查阅线上资源\",\"视频回放\",\"教师线上答疑\",\"社交软件咨询教师\",\"同学交流\",\"暂时放下\"]\n",
    "res = [data[idx].value_counts()[1] for idx in range(38,44)]\n",
    "res = numpy.array(res)\n",
    "res = res / res.sum()\n",
    "\n",
    "bar = (\n",
    "    Bar()\n",
    "    .add_xaxis(keys)\n",
    "    .add_yaxis('', list(res))\n",
    "    .set_global_opts(\n",
    "        xaxis_opts=opts.AxisOpts(axislabel_opts=opts.LabelOpts(rotate=30)),\n",
    "        title_opts=opts.TitleOpts(title=\"统计学生通过哪些方法解决未掌握知识点\"),\n",
    "    )\n",
    "    .set_series_opts(\n",
    "        label_opts=opts.LabelOpts(\n",
    "            position=\"top\",\n",
    "            formatter=JsCode(\n",
    "                \"function(x){return Number(x.data*100).toFixed() + '%';}\"\n",
    "            ),\n",
    "        )\n",
    "    )\n",
    ")\n",
    "bar.render_notebook()"
   ]
  },
  {
   "cell_type": "code",
   "execution_count": 127,
   "metadata": {
    "pycharm": {
     "name": "#%% 统计学生线上学习互动频率\n"
    }
   },
   "outputs": [
    {
     "output_type": "stream",
     "name": "stdout",
     "text": [
      "894360\n"
     ]
    },
    {
     "output_type": "execute_result",
     "data": {
      "text/plain": [
       "<pyecharts.render.display.HTML at 0x172676460>"
      ],
      "text/html": "\n<script>\n    require.config({\n        paths: {\n            'echarts':'https://assets.pyecharts.org/assets/echarts.min'\n        }\n    });\n</script>\n\n        <div id=\"aa56877d74864f91bc5e28e9ca7efcf9\" style=\"width:900px; height:500px;\"></div>\n\n<script>\n        require(['echarts'], function(echarts) {\n                var chart_aa56877d74864f91bc5e28e9ca7efcf9 = echarts.init(\n                    document.getElementById('aa56877d74864f91bc5e28e9ca7efcf9'), 'white', {renderer: 'canvas'});\n                var option_aa56877d74864f91bc5e28e9ca7efcf9 = {\n    \"animation\": true,\n    \"animationThreshold\": 2000,\n    \"animationDuration\": 1000,\n    \"animationEasing\": \"cubicOut\",\n    \"animationDelay\": 0,\n    \"animationDurationUpdate\": 300,\n    \"animationEasingUpdate\": \"cubicOut\",\n    \"animationDelayUpdate\": 0,\n    \"color\": [\n        \"#c23531\",\n        \"#2f4554\",\n        \"#61a0a8\",\n        \"#d48265\",\n        \"#749f83\",\n        \"#ca8622\",\n        \"#bda29a\",\n        \"#6e7074\",\n        \"#546570\",\n        \"#c4ccd3\",\n        \"#f05b72\",\n        \"#ef5b9c\",\n        \"#f47920\",\n        \"#905a3d\",\n        \"#fab27b\",\n        \"#2a5caa\",\n        \"#444693\",\n        \"#726930\",\n        \"#b2d235\",\n        \"#6d8346\",\n        \"#ac6767\",\n        \"#1d953f\",\n        \"#6950a1\",\n        \"#918597\"\n    ],\n    \"series\": [\n        {\n            \"type\": \"pie\",\n            \"clockwise\": true,\n            \"data\": [\n                {\n                    \"name\": \"\\u4e0d\\u56de\\u7b54\",\n                    \"value\": 0.35683187252693976\n                },\n                {\n                    \"name\": \"\\u5076\\u5c14\\u53c2\\u4e0e\\u56de\\u7b54\",\n                    \"value\": 0.13813044306317848\n                },\n                {\n                    \"name\": \"\\u5927\\u591a\\u6570\\u60c5\\u51b5\\u4e0b\\u80fd\\u56de\\u7b54\",\n                    \"value\": 0.4097565263484546\n                },\n                {\n                    \"name\": \"\\u79ef\\u6781\\u53d1\\u8a00\",\n                    \"value\": 0.04120712640892013\n                },\n                {\n                    \"name\": \"\\u6ca1\\u6709\\u95ee\\u7b54\\u73af\\u8282\",\n                    \"value\": 0.05407403165250699\n                }\n            ],\n            \"radius\": [\n                \"40%\",\n                \"55%\"\n            ],\n            \"center\": [\n                \"50%\",\n                \"50%\"\n            ],\n            \"label\": {\n                \"show\": true,\n                \"position\": \"outside\",\n                \"margin\": 8,\n                \"formatter\": \"{b|{b}: }{per|{d}%}  \",\n                \"backgroundColor\": \"#eee\",\n                \"borderColor\": \"#aaa\",\n                \"borderWidth\": 1,\n                \"borderRadius\": 4,\n                \"rich\": {\n                    \"a\": {\n                        \"color\": \"#999\",\n                        \"lineHeight\": 22,\n                        \"align\": \"center\"\n                    },\n                    \"abg\": {\n                        \"backgroundColor\": \"#e3e3e3\",\n                        \"width\": \"100%\",\n                        \"align\": \"right\",\n                        \"height\": 22,\n                        \"borderRadius\": [\n                            4,\n                            4,\n                            0,\n                            0\n                        ]\n                    },\n                    \"hr\": {\n                        \"borderColor\": \"#aaa\",\n                        \"width\": \"100%\",\n                        \"borderWidth\": 0.5,\n                        \"height\": 0\n                    },\n                    \"b\": {\n                        \"fontSize\": 16,\n                        \"lineHeight\": 33\n                    },\n                    \"per\": {\n                        \"color\": \"#eee\",\n                        \"backgroundColor\": \"#334455\",\n                        \"padding\": [\n                            2,\n                            4\n                        ],\n                        \"borderRadius\": 2\n                    }\n                }\n            }\n        }\n    ],\n    \"legend\": [\n        {\n            \"data\": [\n                \"\\u4e0d\\u56de\\u7b54\",\n                \"\\u5076\\u5c14\\u53c2\\u4e0e\\u56de\\u7b54\",\n                \"\\u5927\\u591a\\u6570\\u60c5\\u51b5\\u4e0b\\u80fd\\u56de\\u7b54\",\n                \"\\u79ef\\u6781\\u53d1\\u8a00\",\n                \"\\u6ca1\\u6709\\u95ee\\u7b54\\u73af\\u8282\"\n            ],\n            \"selected\": {},\n            \"show\": true,\n            \"padding\": 5,\n            \"itemGap\": 10,\n            \"itemWidth\": 25,\n            \"itemHeight\": 14\n        }\n    ],\n    \"tooltip\": {\n        \"show\": true,\n        \"trigger\": \"item\",\n        \"triggerOn\": \"mousemove|click\",\n        \"axisPointer\": {\n            \"type\": \"line\"\n        },\n        \"showContent\": true,\n        \"alwaysShowContent\": false,\n        \"showDelay\": 0,\n        \"hideDelay\": 100,\n        \"textStyle\": {\n            \"fontSize\": 14\n        },\n        \"borderWidth\": 0,\n        \"padding\": 5\n    },\n    \"title\": [\n        {\n            \"text\": \"\\u7edf\\u8ba1\\u5b66\\u751f\\u7ebf\\u4e0a\\u4e92\\u52a8\\u9891\\u7387\",\n            \"padding\": 5,\n            \"itemGap\": 10\n        }\n    ]\n};\n                chart_aa56877d74864f91bc5e28e9ca7efcf9.setOption(option_aa56877d74864f91bc5e28e9ca7efcf9);\n        });\n    </script>\n"
     },
     "metadata": {},
     "execution_count": 127
    }
   ],
   "source": [
    "keys = [\"不回答\",\"偶尔参与回答\",\"大多数情况下能回答\",\"积极发言\",\"没有问答环节\"]\n",
    "res = [data[idx].value_counts()[1] for idx in range(44,49)]\n",
    "res = numpy.array(res)\n",
    "res = res / res.sum()\n",
    "res = [list(x) for x in zip(keys,values)]\n",
    "\n",
    "pie = (\n",
    "    Pie()\n",
    "    .add(\n",
    "        \"\",\n",
    "        res,\n",
    "        radius=['40%', '55%'],\n",
    "        label_opts=PIE_SETTINGS\n",
    "    )\n",
    "    .set_global_opts(title_opts=opts.TitleOpts(title=\"统计学生线上互动频率\"))\n",
    ")\n",
    "pie.render_notebook()"
   ]
  },
  {
   "cell_type": "code",
   "execution_count": 122,
   "metadata": {
    "pycharm": {
     "name": "#%%统计线上学习时候遇到的主要问题\n"
    }
   },
   "outputs": [
    {
     "output_type": "execute_result",
     "data": {
      "text/plain": [
       "<pyecharts.render.display.HTML at 0x128de45e0>"
      ],
      "text/html": "\n<script>\n    require.config({\n        paths: {\n            'echarts':'https://assets.pyecharts.org/assets/echarts.min'\n        }\n    });\n</script>\n\n        <div id=\"65b6a225884e4b2b8ce3f0718a8fe704\" style=\"width:900px; height:500px;\"></div>\n\n<script>\n        require(['echarts'], function(echarts) {\n                var chart_65b6a225884e4b2b8ce3f0718a8fe704 = echarts.init(\n                    document.getElementById('65b6a225884e4b2b8ce3f0718a8fe704'), 'white', {renderer: 'canvas'});\n                var option_65b6a225884e4b2b8ce3f0718a8fe704 = {\n    \"animation\": true,\n    \"animationThreshold\": 2000,\n    \"animationDuration\": 1000,\n    \"animationEasing\": \"cubicOut\",\n    \"animationDelay\": 0,\n    \"animationDurationUpdate\": 300,\n    \"animationEasingUpdate\": \"cubicOut\",\n    \"animationDelayUpdate\": 0,\n    \"color\": [\n        \"#c23531\",\n        \"#2f4554\",\n        \"#61a0a8\",\n        \"#d48265\",\n        \"#749f83\",\n        \"#ca8622\",\n        \"#bda29a\",\n        \"#6e7074\",\n        \"#546570\",\n        \"#c4ccd3\",\n        \"#f05b72\",\n        \"#ef5b9c\",\n        \"#f47920\",\n        \"#905a3d\",\n        \"#fab27b\",\n        \"#2a5caa\",\n        \"#444693\",\n        \"#726930\",\n        \"#b2d235\",\n        \"#6d8346\",\n        \"#ac6767\",\n        \"#1d953f\",\n        \"#6950a1\",\n        \"#918597\"\n    ],\n    \"series\": [\n        {\n            \"type\": \"bar\",\n            \"legendHoverLink\": true,\n            \"data\": [\n                0.06168545262416344,\n                0.31458111279351153,\n                0.08637804604694355,\n                0.1727217833241081,\n                0.05766503661889361,\n                0.04186813538698005,\n                0.09645453173103755,\n                0.1686459014743622\n            ],\n            \"showBackground\": false,\n            \"barMinHeight\": 0,\n            \"barCategoryGap\": \"20%\",\n            \"barGap\": \"30%\",\n            \"large\": false,\n            \"largeThreshold\": 400,\n            \"seriesLayoutBy\": \"column\",\n            \"datasetIndex\": 0,\n            \"clip\": true,\n            \"zlevel\": 0,\n            \"z\": 2,\n            \"label\": {\n                \"show\": true,\n                \"position\": \"top\",\n                \"margin\": 8,\n                \"formatter\": function(x){return Number(x.data*100).toFixed() + '%';}\n            },\n            \"rippleEffect\": {\n                \"show\": true,\n                \"brushType\": \"stroke\",\n                \"scale\": 2.5,\n                \"period\": 4\n            }\n        }\n    ],\n    \"legend\": [\n        {\n            \"data\": [\n                \"\"\n            ],\n            \"selected\": {\n                \"\": true\n            },\n            \"show\": true,\n            \"padding\": 5,\n            \"itemGap\": 10,\n            \"itemWidth\": 25,\n            \"itemHeight\": 14\n        }\n    ],\n    \"tooltip\": {\n        \"show\": true,\n        \"trigger\": \"item\",\n        \"triggerOn\": \"mousemove|click\",\n        \"axisPointer\": {\n            \"type\": \"line\"\n        },\n        \"showContent\": true,\n        \"alwaysShowContent\": false,\n        \"showDelay\": 0,\n        \"hideDelay\": 100,\n        \"textStyle\": {\n            \"fontSize\": 14\n        },\n        \"borderWidth\": 0,\n        \"padding\": 5\n    },\n    \"xAxis\": [\n        {\n            \"show\": true,\n            \"scale\": false,\n            \"nameLocation\": \"end\",\n            \"nameGap\": 15,\n            \"gridIndex\": 0,\n            \"axisLabel\": {\n                \"show\": true,\n                \"position\": \"top\",\n                \"rotate\": 30,\n                \"margin\": 8\n            },\n            \"inverse\": false,\n            \"offset\": 0,\n            \"splitNumber\": 5,\n            \"minInterval\": 0,\n            \"splitLine\": {\n                \"show\": false,\n                \"lineStyle\": {\n                    \"show\": true,\n                    \"width\": 1,\n                    \"opacity\": 1,\n                    \"curveness\": 0,\n                    \"type\": \"solid\"\n                }\n            },\n            \"data\": [\n                \"\\u7f51\\u7edc\\u5361\\u987f\",\n                \"\\u7ebf\\u4e0a\\u8f6f\\u4ef6\\u7f3a\\u9677\",\n                \"\\u4e0e\\u8001\\u5e08\\u6c9f\\u901a\\u4e0d\\u4fbf\",\n                \"\\u4f5c\\u4e1a\\u4e0d\\u5408\\u7406\",\n                \"\\u8bfe\\u7a0b\\u8d28\\u91cf\\u6b20\\u4f73\",\n                \"\\u773c\\u775b\\u75b2\\u52b3\",\n                \"\\u8f6f\\u4ef6\\u592a\\u591a\\u5bb9\\u6613\\u6df7\\u6dc6\",\n                \"\\u73af\\u5883\\u5e72\\u6270\"\n            ]\n        }\n    ],\n    \"yAxis\": [\n        {\n            \"show\": true,\n            \"scale\": false,\n            \"nameLocation\": \"end\",\n            \"nameGap\": 15,\n            \"gridIndex\": 0,\n            \"inverse\": false,\n            \"offset\": 0,\n            \"splitNumber\": 5,\n            \"minInterval\": 0,\n            \"splitLine\": {\n                \"show\": false,\n                \"lineStyle\": {\n                    \"show\": true,\n                    \"width\": 1,\n                    \"opacity\": 1,\n                    \"curveness\": 0,\n                    \"type\": \"solid\"\n                }\n            }\n        }\n    ],\n    \"title\": [\n        {\n            \"text\": \"\\u7ebf\\u4e0a\\u5b66\\u4e60\\u95ee\\u9898\\u7edf\\u8ba1\",\n            \"padding\": 5,\n            \"itemGap\": 10\n        }\n    ]\n};\n                chart_65b6a225884e4b2b8ce3f0718a8fe704.setOption(option_65b6a225884e4b2b8ce3f0718a8fe704);\n        });\n    </script>\n"
     },
     "metadata": {},
     "execution_count": 122
    }
   ],
   "source": [
    "keys = [\"网络卡顿\",\"线上软件缺陷\",\"与老师沟通不便\", \"作业不合理\",\"课程质量欠佳\",\"眼睛疲劳\",\"软件太多容易混淆\",\"环境干扰\"]\n",
    "res = [data[idx].value_counts()[1] for idx in range(49,57)]\n",
    "res = numpy.array(res)\n",
    "res = res / res.sum()\n",
    "\n",
    "bar = (\n",
    "    Bar()\n",
    "    .add_xaxis(keys)\n",
    "    .add_yaxis(\"\", list(res))\n",
    "    .set_global_opts(\n",
    "        xaxis_opts=opts.AxisOpts(axislabel_opts=opts.LabelOpts(rotate=30)),\n",
    "        title_opts=opts.TitleOpts(title=\"线上学习问题统计\")\n",
    "    )\n",
    "    .set_series_opts(\n",
    "        label_opts=opts.LabelOpts(\n",
    "            position=\"top\",\n",
    "            formatter=JsCode(\n",
    "                \"function(x){return Number(x.data*100).toFixed() + '%';}\"\n",
    "            ),\n",
    "        )\n",
    "    )\n",
    ")\n",
    "bar.render_notebook()"
   ]
  },
  {
   "cell_type": "code",
   "execution_count": 126,
   "metadata": {
    "pycharm": {
     "name": "#%%统计学生线上学习培养的能力\n"
    }
   },
   "outputs": [
    {
     "output_type": "execute_result",
     "data": {
      "text/plain": [
       "<pyecharts.render.display.HTML at 0x128a6a3a0>"
      ],
      "text/html": "\n<script>\n    require.config({\n        paths: {\n            'echarts':'https://assets.pyecharts.org/assets/echarts.min'\n        }\n    });\n</script>\n\n        <div id=\"629a56ecdec14fa4bf0b1e4c8d4ace14\" style=\"width:900px; height:500px;\"></div>\n\n<script>\n        require(['echarts'], function(echarts) {\n                var chart_629a56ecdec14fa4bf0b1e4c8d4ace14 = echarts.init(\n                    document.getElementById('629a56ecdec14fa4bf0b1e4c8d4ace14'), 'white', {renderer: 'canvas'});\n                var option_629a56ecdec14fa4bf0b1e4c8d4ace14 = {\n    \"animation\": true,\n    \"animationThreshold\": 2000,\n    \"animationDuration\": 1000,\n    \"animationEasing\": \"cubicOut\",\n    \"animationDelay\": 0,\n    \"animationDurationUpdate\": 300,\n    \"animationEasingUpdate\": \"cubicOut\",\n    \"animationDelayUpdate\": 0,\n    \"color\": [\n        \"#4587E7\"\n    ],\n    \"series\": [\n        {\n            \"type\": \"radar\",\n            \"data\": [\n                {\n                    \"value\": [\n                        0.13061913463459035,\n                        0.3038342065541096,\n                        0.2289636267210326,\n                        0.13445233454325053,\n                        0.09794289353346858,\n                        0.1041878040135484\n                    ],\n                    \"name\": \"\\u57f9\\u517b\\u80fd\\u529b\"\n                }\n            ],\n            \"label\": {\n                \"show\": false,\n                \"position\": \"top\",\n                \"margin\": 8\n            },\n            \"itemStyle\": {\n                \"normal\": {}\n            },\n            \"lineStyle\": {\n                \"show\": true,\n                \"width\": 1,\n                \"opacity\": 1,\n                \"curveness\": 0,\n                \"type\": \"solid\"\n            },\n            \"areaStyle\": {\n                \"opacity\": 0.1\n            },\n            \"rippleEffect\": {\n                \"show\": true,\n                \"brushType\": \"stroke\",\n                \"scale\": 2.5,\n                \"period\": 4\n            }\n        }\n    ],\n    \"legend\": [\n        {\n            \"data\": [\n                \"\"\n            ],\n            \"selected\": {\n                \"\": true\n            },\n            \"show\": true,\n            \"padding\": 5,\n            \"itemGap\": 10,\n            \"itemWidth\": 25,\n            \"itemHeight\": 14\n        }\n    ],\n    \"tooltip\": {\n        \"show\": true,\n        \"trigger\": \"item\",\n        \"triggerOn\": \"mousemove|click\",\n        \"axisPointer\": {\n            \"type\": \"line\"\n        },\n        \"showContent\": true,\n        \"alwaysShowContent\": false,\n        \"showDelay\": 0,\n        \"hideDelay\": 100,\n        \"textStyle\": {\n            \"fontSize\": 14\n        },\n        \"borderWidth\": 0,\n        \"padding\": 5\n    },\n    \"radiusAxis\": {\n        \"min\": 0,\n        \"max\": 0.35,\n        \"scale\": false,\n        \"interval\": 0.1,\n        \"splitArea\": {\n            \"show\": true,\n            \"areaStyle\": {\n                \"opacity\": 1\n            }\n        }\n    },\n    \"angleAxis\": {\n        \"clockwise\": false,\n        \"min\": 0,\n        \"max\": 360,\n        \"scale\": false,\n        \"splitNumber\": 5,\n        \"interval\": 5,\n        \"splitLine\": {\n            \"show\": false,\n            \"lineStyle\": {\n                \"show\": true,\n                \"width\": 1,\n                \"opacity\": 1,\n                \"curveness\": 0,\n                \"type\": \"solid\"\n            }\n        },\n        \"axisLine\": {\n            \"show\": false,\n            \"onZero\": true,\n            \"onZeroAxisIndex\": 0\n        },\n        \"axisTick\": {\n            \"show\": false,\n            \"alignWithLabel\": false,\n            \"inside\": false\n        },\n        \"axisLabel\": {\n            \"show\": false,\n            \"position\": \"top\",\n            \"margin\": 8\n        }\n    },\n    \"polar\": {},\n    \"radar\": {\n        \"indicator\": [\n            {\n                \"name\": \"\\u81ea\\u4e3b\\u5b66\\u4e60\\u80fd\\u529b\",\n                \"max\": 0.35\n            },\n            {\n                \"name\": \"\\u81ea\\u63a7\\u80fd\\u529b\",\n                \"max\": 0.35\n            },\n            {\n                \"name\": \"\\u6570\\u5b57\\u5316\\u8d44\\u6e90\\u7684\\u5229\\u7528\\u80fd\\u529b\",\n                \"max\": 0.35\n            },\n            {\n                \"name\": \"\\u8868\\u8fbe\\u6c9f\\u901a\",\n                \"max\": 0.35\n            },\n            {\n                \"name\": \"\\u751f\\u6d3b\\u5b9e\\u8df5\",\n                \"max\": 0.35\n            },\n            {\n                \"name\": \"\\u5176\\u4ed6\",\n                \"max\": 0.35\n            }\n        ],\n        \"shape\": \"circle\",\n        \"center\": [\n            \"50%\",\n            \"50%\"\n        ],\n        \"radius\": \"80%\",\n        \"name\": {\n            \"textStyle\": {}\n        },\n        \"splitLine\": {\n            \"show\": false,\n            \"lineStyle\": {\n                \"show\": true,\n                \"width\": 1,\n                \"opacity\": 1,\n                \"curveness\": 0,\n                \"type\": \"solid\"\n            }\n        },\n        \"splitArea\": {\n            \"show\": false,\n            \"areaStyle\": {\n                \"opacity\": 0\n            }\n        },\n        \"axisLine\": {\n            \"show\": true,\n            \"onZero\": true,\n            \"onZeroAxisIndex\": 0\n        }\n    },\n    \"title\": [\n        {\n            \"text\": \"\\u7edf\\u8ba1\\u5b66\\u751f\\u7ebf\\u4e0a\\u5b66\\u4e60\\u57f9\\u517b\\u80fd\\u529b\",\n            \"padding\": 5,\n            \"itemGap\": 10\n        }\n    ]\n};\n                chart_629a56ecdec14fa4bf0b1e4c8d4ace14.setOption(option_629a56ecdec14fa4bf0b1e4c8d4ace14);\n        });\n    </script>\n"
     },
     "metadata": {},
     "execution_count": 126
    }
   ],
   "source": [
    "# 培养能力\n",
    "res = [data[idx].value_counts()[1] for idx in range(57,63)]\n",
    "res = numpy.array(res)\n",
    "res = res / res.sum()\n",
    "res = [{\"value\": res.tolist(), \"name\": \"培养能力\"}]\n",
    "\n",
    "MAX_VALUE = 0.35\n",
    "radar_schema = [\n",
    "    {\"name\": \"自主学习能力\", \"max\": MAX_VALUE},\n",
    "    {\"name\": \"自控能力\", \"max\": MAX_VALUE},\n",
    "    {\"name\": \"数字化资源的利用能力\", \"max\": MAX_VALUE},\n",
    "    {\"name\": \"表达沟通\", \"max\": MAX_VALUE},\n",
    "    {\"name\": \"生活实践\", \"max\": MAX_VALUE},\n",
    "    {\"name\": \"其他\", \"max\": MAX_VALUE},\n",
    "]\n",
    "\n",
    "radar = (\n",
    "    Radar()\n",
    "    .set_colors([\"#4587E7\"])\n",
    "    .add_schema(\n",
    "        schema=radar_schema,\n",
    "        shape=\"circle\",\n",
    "        center=[\"50%\", \"50%\"],\n",
    "        radius=\"80%\",\n",
    "        angleaxis_opts=opts.AngleAxisOpts(\n",
    "            min_=0,\n",
    "            max_=360,\n",
    "            is_clockwise=False,\n",
    "            interval=5,\n",
    "            axistick_opts=opts.AxisTickOpts(is_show=False),\n",
    "            axislabel_opts=opts.LabelOpts(is_show=False),\n",
    "            axisline_opts=opts.AxisLineOpts(is_show=False),\n",
    "            splitline_opts=opts.SplitLineOpts(is_show=False),\n",
    "        ),\n",
    "        radiusaxis_opts=opts.RadiusAxisOpts(\n",
    "            min_=0,\n",
    "            max_=MAX_VALUE,\n",
    "            interval=0.1,\n",
    "            splitarea_opts=opts.SplitAreaOpts(\n",
    "                is_show=True, areastyle_opts=opts.AreaStyleOpts(opacity=1)\n",
    "            ),\n",
    "        ),\n",
    "        polar_opts=opts.PolarOpts(),\n",
    "        splitarea_opt=opts.SplitAreaOpts(is_show=False),\n",
    "        splitline_opt=opts.SplitLineOpts(is_show=False),\n",
    "    )\n",
    "    .add(\n",
    "        series_name=\"\",\n",
    "        data=res,\n",
    "        areastyle_opts=opts.AreaStyleOpts(opacity=0.1),\n",
    "        linestyle_opts=opts.LineStyleOpts(width=1),\n",
    "    )\n",
    "    .set_series_opts(label_opts=opts.LabelOpts(is_show=False))\n",
    "    .set_global_opts(\n",
    "        title_opts=opts.TitleOpts(title=\"统计学生线上学习培养能力\"),\n",
    "        legend_opts=opts.LegendOpts()\n",
    "    )\n",
    ")\n",
    "\n",
    "radar.render_notebook()"
   ]
  },
  {
   "cell_type": "code",
   "execution_count": 131,
   "metadata": {},
   "outputs": [
    {
     "output_type": "execute_result",
     "data": {
      "text/plain": [
       "<pyecharts.render.display.HTML at 0x127d1ca60>"
      ],
      "text/html": "\n<script>\n    require.config({\n        paths: {\n            'echarts':'https://assets.pyecharts.org/assets/echarts.min'\n        }\n    });\n</script>\n\n        <div id=\"60f4baab5c29439e96369c4c8035cb8f\" style=\"width:900px; height:500px;\"></div>\n\n<script>\n        require(['echarts'], function(echarts) {\n                var chart_60f4baab5c29439e96369c4c8035cb8f = echarts.init(\n                    document.getElementById('60f4baab5c29439e96369c4c8035cb8f'), 'white', {renderer: 'canvas'});\n                var option_60f4baab5c29439e96369c4c8035cb8f = {\n    \"animation\": true,\n    \"animationThreshold\": 2000,\n    \"animationDuration\": 1000,\n    \"animationEasing\": \"cubicOut\",\n    \"animationDelay\": 0,\n    \"animationDurationUpdate\": 300,\n    \"animationEasingUpdate\": \"cubicOut\",\n    \"animationDelayUpdate\": 0,\n    \"color\": [\n        \"#c23531\",\n        \"#2f4554\",\n        \"#61a0a8\",\n        \"#d48265\",\n        \"#749f83\",\n        \"#ca8622\",\n        \"#bda29a\",\n        \"#6e7074\",\n        \"#546570\",\n        \"#c4ccd3\",\n        \"#f05b72\",\n        \"#ef5b9c\",\n        \"#f47920\",\n        \"#905a3d\",\n        \"#fab27b\",\n        \"#2a5caa\",\n        \"#444693\",\n        \"#726930\",\n        \"#b2d235\",\n        \"#6d8346\",\n        \"#ac6767\",\n        \"#1d953f\",\n        \"#6950a1\",\n        \"#918597\"\n    ],\n    \"series\": [\n        {\n            \"type\": \"bar\",\n            \"name\": \"\\u975e\\u5e38\\u6ee1\\u610f\",\n            \"legendHoverLink\": true,\n            \"data\": [\n                {\n                    \"value\": 0.22293401665598975,\n                    \"percent\": 0.22293401665598975\n                },\n                {\n                    \"value\": 0.21992539032897776,\n                    \"percent\": 0.21992539032897776\n                },\n                {\n                    \"value\": 0.3445776136359096,\n                    \"percent\": 0.3445776136359096\n                },\n                {\n                    \"value\": 0.3186040719673007,\n                    \"percent\": 0.3186040719673007\n                },\n                {\n                    \"value\": 0.24170630000226412,\n                    \"percent\": 0.24170630000226412\n                },\n                {\n                    \"value\": 0.22426985207254266,\n                    \"percent\": 0.22426985207254266\n                },\n                {\n                    \"value\": 0.22874483412600005,\n                    \"percent\": 0.22874483412600005\n                }\n            ],\n            \"showBackground\": false,\n            \"stack\": \"stack1\",\n            \"barMinHeight\": 0,\n            \"barCategoryGap\": \"25%\",\n            \"barGap\": \"30%\",\n            \"large\": false,\n            \"largeThreshold\": 400,\n            \"seriesLayoutBy\": \"column\",\n            \"datasetIndex\": 0,\n            \"clip\": true,\n            \"zlevel\": 0,\n            \"z\": 2,\n            \"label\": {\n                \"show\": true,\n                \"position\": \"right\",\n                \"margin\": 8,\n                \"formatter\": function(x){return Number(x.data.percent * 100).toFixed() + '%';}\n            },\n            \"rippleEffect\": {\n                \"show\": true,\n                \"brushType\": \"stroke\",\n                \"scale\": 2.5,\n                \"period\": 4\n            }\n        },\n        {\n            \"type\": \"bar\",\n            \"name\": \"\\u6ee1\\u610f\",\n            \"legendHoverLink\": true,\n            \"data\": [\n                {\n                    \"value\": 0.4214887039999148,\n                    \"percent\": 0.4214887039999148\n                },\n                {\n                    \"value\": 0.43990938161341747,\n                    \"percent\": 0.43990938161341747\n                },\n                {\n                    \"value\": 0.4724568850129388,\n                    \"percent\": 0.4724568850129388\n                },\n                {\n                    \"value\": 0.470772107543408,\n                    \"percent\": 0.470772107543408\n                },\n                {\n                    \"value\": 0.4701101831146674,\n                    \"percent\": 0.4701101831146674\n                },\n                {\n                    \"value\": 0.4410640868039971,\n                    \"percent\": 0.4410640868039971\n                },\n                {\n                    \"value\": 0.4519358958820842,\n                    \"percent\": 0.4519358958820842\n                }\n            ],\n            \"showBackground\": false,\n            \"stack\": \"stack1\",\n            \"barMinHeight\": 0,\n            \"barCategoryGap\": \"25%\",\n            \"barGap\": \"30%\",\n            \"large\": false,\n            \"largeThreshold\": 400,\n            \"seriesLayoutBy\": \"column\",\n            \"datasetIndex\": 0,\n            \"clip\": true,\n            \"zlevel\": 0,\n            \"z\": 2,\n            \"label\": {\n                \"show\": true,\n                \"position\": \"right\",\n                \"margin\": 8,\n                \"formatter\": function(x){return Number(x.data.percent * 100).toFixed() + '%';}\n            },\n            \"rippleEffect\": {\n                \"show\": true,\n                \"brushType\": \"stroke\",\n                \"scale\": 2.5,\n                \"period\": 4\n            }\n        },\n        {\n            \"type\": \"bar\",\n            \"name\": \"\\u4e00\\u822c\",\n            \"legendHoverLink\": true,\n            \"data\": [\n                {\n                    \"value\": 0.32264354237448406,\n                    \"percent\": 0.32264354237448406\n                },\n                {\n                    \"value\": 0.30979661472935016,\n                    \"percent\": 0.30979661472935016\n                },\n                {\n                    \"value\": 0.16784245932227995,\n                    \"percent\": 0.16784245932227995\n                },\n                {\n                    \"value\": 0.19282777578741706,\n                    \"percent\": 0.19282777578741706\n                },\n                {\n                    \"value\": 0.2675919402376801,\n                    \"percent\": 0.2675919402376801\n                },\n                {\n                    \"value\": 0.30282176918948217,\n                    \"percent\": 0.30282176918948217\n                },\n                {\n                    \"value\": 0.290606133655461,\n                    \"percent\": 0.290606133655461\n                }\n            ],\n            \"showBackground\": false,\n            \"stack\": \"stack1\",\n            \"barMinHeight\": 0,\n            \"barCategoryGap\": \"25%\",\n            \"barGap\": \"30%\",\n            \"large\": false,\n            \"largeThreshold\": 400,\n            \"seriesLayoutBy\": \"column\",\n            \"datasetIndex\": 0,\n            \"clip\": true,\n            \"zlevel\": 0,\n            \"z\": 2,\n            \"label\": {\n                \"show\": true,\n                \"position\": \"right\",\n                \"margin\": 8,\n                \"formatter\": function(x){return Number(x.data.percent * 100).toFixed() + '%';}\n            },\n            \"rippleEffect\": {\n                \"show\": true,\n                \"brushType\": \"stroke\",\n                \"scale\": 2.5,\n                \"period\": 4\n            }\n        },\n        {\n            \"type\": \"bar\",\n            \"name\": \"\\u4e0d\\u6ee1\\u610f\",\n            \"legendHoverLink\": true,\n            \"data\": [\n                {\n                    \"value\": 0.03293373696961141,\n                    \"percent\": 0.03293373696961141\n                },\n                {\n                    \"value\": 0.030368613328254582,\n                    \"percent\": 0.030368613328254582\n                },\n                {\n                    \"value\": 0.015123042028871625,\n                    \"percent\": 0.015123042028871625\n                },\n                {\n                    \"value\": 0.0177960447018743,\n                    \"percent\": 0.0177960447018743\n                },\n                {\n                    \"value\": 0.020591576645388306,\n                    \"percent\": 0.020591576645388306\n                },\n                {\n                    \"value\": 0.03184429193397803,\n                    \"percent\": 0.03184429193397803\n                },\n                {\n                    \"value\": 0.028713136336454722,\n                    \"percent\": 0.028713136336454722\n                }\n            ],\n            \"showBackground\": false,\n            \"stack\": \"stack1\",\n            \"barMinHeight\": 0,\n            \"barCategoryGap\": \"25%\",\n            \"barGap\": \"30%\",\n            \"large\": false,\n            \"largeThreshold\": 400,\n            \"seriesLayoutBy\": \"column\",\n            \"datasetIndex\": 0,\n            \"clip\": true,\n            \"zlevel\": 0,\n            \"z\": 2,\n            \"label\": {\n                \"show\": true,\n                \"position\": \"right\",\n                \"margin\": 8,\n                \"formatter\": function(x){return Number(x.data.percent * 100).toFixed() + '%';}\n            },\n            \"rippleEffect\": {\n                \"show\": true,\n                \"brushType\": \"stroke\",\n                \"scale\": 2.5,\n                \"period\": 4\n            }\n        }\n    ],\n    \"legend\": [\n        {\n            \"data\": [\n                \"\\u975e\\u5e38\\u6ee1\\u610f\",\n                \"\\u6ee1\\u610f\",\n                \"\\u4e00\\u822c\",\n                \"\\u4e0d\\u6ee1\\u610f\"\n            ],\n            \"selected\": {\n                \"\\u975e\\u5e38\\u6ee1\\u610f\": true,\n                \"\\u6ee1\\u610f\": true,\n                \"\\u4e00\\u822c\": true,\n                \"\\u4e0d\\u6ee1\\u610f\": true\n            },\n            \"show\": true,\n            \"padding\": 5,\n            \"itemGap\": 10,\n            \"itemWidth\": 25,\n            \"itemHeight\": 14\n        }\n    ],\n    \"tooltip\": {\n        \"show\": true,\n        \"trigger\": \"item\",\n        \"triggerOn\": \"mousemove|click\",\n        \"axisPointer\": {\n            \"type\": \"line\"\n        },\n        \"showContent\": true,\n        \"alwaysShowContent\": false,\n        \"showDelay\": 0,\n        \"hideDelay\": 100,\n        \"textStyle\": {\n            \"fontSize\": 14\n        },\n        \"borderWidth\": 0,\n        \"padding\": 5\n    },\n    \"xAxis\": [\n        {\n            \"show\": true,\n            \"scale\": false,\n            \"nameLocation\": \"end\",\n            \"nameGap\": 15,\n            \"gridIndex\": 0,\n            \"axisLabel\": {\n                \"show\": true,\n                \"position\": \"top\",\n                \"rotate\": 30,\n                \"margin\": 8\n            },\n            \"inverse\": false,\n            \"offset\": 0,\n            \"splitNumber\": 5,\n            \"minInterval\": 0,\n            \"splitLine\": {\n                \"show\": false,\n                \"lineStyle\": {\n                    \"show\": true,\n                    \"width\": 1,\n                    \"opacity\": 1,\n                    \"curveness\": 0,\n                    \"type\": \"solid\"\n                }\n            },\n            \"data\": [\n                \"\\u76f4\\u64ad\\u65b9\\u5f0f\",\n                \"\\u5f55\\u64ad\\u65b9\\u5f0f\",\n                \"\\u6559\\u5e08\\u6559\\u5b66\\u6001\\u5ea6\",\n                \"\\u6559\\u5e08\\u6559\\u5b66\\u6c34\\u5e73\",\n                \"\\u8d44\\u6e90\\u5185\\u5bb9\",\n                \"\\u7ebf\\u4e0a\\u5b66\\u4e60\\u5e73\\u53f0\",\n                \"\\u603b\\u4f53\\u6ee1\\u610f\\u5ea6\"\n            ]\n        }\n    ],\n    \"yAxis\": [\n        {\n            \"show\": true,\n            \"scale\": false,\n            \"nameLocation\": \"end\",\n            \"nameGap\": 15,\n            \"gridIndex\": 0,\n            \"inverse\": false,\n            \"offset\": 0,\n            \"splitNumber\": 5,\n            \"minInterval\": 0,\n            \"splitLine\": {\n                \"show\": false,\n                \"lineStyle\": {\n                    \"show\": true,\n                    \"width\": 1,\n                    \"opacity\": 1,\n                    \"curveness\": 0,\n                    \"type\": \"solid\"\n                }\n            }\n        }\n    ],\n    \"title\": [\n        {\n            \"text\": \"\\u7ebf\\u4e0a\\u5b66\\u4e60\\u6ee1\\u610f\\u5ea6\\u7edf\\u8ba1\",\n            \"padding\": 5,\n            \"itemGap\": 10\n        }\n    ]\n};\n                chart_60f4baab5c29439e96369c4c8035cb8f.setOption(option_60f4baab5c29439e96369c4c8035cb8f);\n        });\n    </script>\n"
     },
     "metadata": {},
     "execution_count": 131
    }
   ],
   "source": [
    "keys = [\"直播方式\",\"录播方式\",\"教师教学态度\",\"教师教学水平\",\"资源内容\",\"线上学习平台\",\"总体满意度\"]\n",
    "\n",
    "level1 = [\n",
    "    {\n",
    "        \"value\": data[idx].value_counts()[1] / NUMS,\n",
    "        \"percent\": data[idx].value_counts()[1] / NUMS\n",
    "    } \n",
    "    for idx in range(64,71)\n",
    "]\n",
    "\n",
    "level2 = [\n",
    "    {\n",
    "        \"value\":data[idx].value_counts()[2] / NUMS,\n",
    "        \"percent\":data[idx].value_counts()[2] / NUMS\n",
    "    }\n",
    "    for idx in range(64,71)\n",
    "]\n",
    "\n",
    "level3 = [\n",
    "    {\n",
    "        \"value\":data[idx].value_counts()[3] / NUMS,\n",
    "        \"percent\":data[idx].value_counts()[3] / NUMS\n",
    "    } \n",
    "    for idx in range(64,71)\n",
    "]\n",
    "\n",
    "level4 = [\n",
    "    {\n",
    "        \"value\":data[idx].value_counts()[4] / NUMS,\n",
    "        \"percent\":data[idx].value_counts()[4] / NUMS\n",
    "    } \n",
    "    for idx in range(64,71)\n",
    "]\n",
    "\n",
    "bar = (\n",
    "    Bar()\n",
    "    .add_xaxis(keys)\n",
    "    .add_yaxis(\"非常满意\", level1, stack=\"stack1\",category_gap=\"25%\")\n",
    "    .add_yaxis(\"满意\",level2, stack=\"stack1\", category_gap=\"25%\")\n",
    "    .add_yaxis(\"一般\",level3, stack=\"stack1\", category_gap=\"25%\")\n",
    "    .add_yaxis(\"不满意\",level4, stack=\"stack1\", category_gap=\"25%\")\n",
    "    .set_series_opts(\n",
    "        label_opts=opts.LabelOpts(\n",
    "            position=\"right\",\n",
    "            formatter=JsCode(\n",
    "                \"function(x){return Number(x.data.percent * 100).toFixed() + '%';}\"\n",
    "            ),\n",
    "        )\n",
    "    )\n",
    "    .set_global_opts(\n",
    "        title_opts=opts.TitleOpts(title=\"线上学习满意度统计\"),\n",
    "        xaxis_opts=opts.AxisOpts(axislabel_opts=opts.LabelOpts(rotate=30)),\n",
    "    )\n",
    ")\n",
    "\n",
    "bar.render_notebook()"
   ]
  }
 ],
 "metadata": {
  "kernelspec": {
   "name": "pythonjvsc74a57bd08eef4f11fdc106e9248655934e6a72dc1782c2a0ac6e772311e9a3a7e820e6d0",
   "display_name": "Python 3.9.4  ('venv': venv)"
  },
  "language_info": {
   "codemirror_mode": {
    "name": "ipython",
    "version": 3
   },
   "file_extension": ".py",
   "mimetype": "text/x-python",
   "name": "python",
   "nbconvert_exporter": "python",
   "pygments_lexer": "ipython3",
   "version": "3.9.4"
  },
  "metadata": {
   "interpreter": {
    "hash": "8eef4f11fdc106e9248655934e6a72dc1782c2a0ac6e772311e9a3a7e820e6d0"
   }
  }
 },
 "nbformat": 4,
 "nbformat_minor": 1
}