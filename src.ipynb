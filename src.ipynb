{
 "cells": [
  {
   "cell_type": "code",
   "execution_count": 78,
   "metadata": {
    "collapsed": true
   },
   "outputs": [
    {
     "name": "stderr",
     "output_type": "stream",
     "text": [
      "/Users/peanutzhen/Desktop/projects/techHW/venv/lib/python3.9/site-packages/IPython/core/interactiveshell.py:3169: DtypeWarning: Columns (29) have mixed types.Specify dtype option on import or set low_memory=False.\n",
      "  has_raised = await self.run_ast_nodes(code_ast.body, cell_name,\n"
     ]
    }
   ],
   "source": [
    "### 加载数据\n",
    "import pandas\n",
    "import numpy\n",
    "import pickle\n",
    "\n",
    "dataset = pandas.read_csv('dataset.csv')"
   ]
  },
  {
   "cell_type": "code",
   "execution_count": 79,
   "metadata": {
    "pycharm": {
     "name": "#%%\n"
    }
   },
   "outputs": [],
   "source": [
    "### 清洗数据\n",
    "\n",
    "# 洗掉不必要的列\n",
    "data = dataset.drop(\n",
    "    [\n",
    "        'Unnamed: 0',\n",
    "        '提交答卷时间',\n",
    "        '所用时间',\n",
    "        '来源',\n",
    "        '来源详情',\n",
    "        '来自IP',\n",
    "        '1、请问您的学校所在地区和类别：'\n",
    "    ],\n",
    "    axis=1\n",
    ")\n",
    "\n",
    "# 列名含义，接下来使用下标访问\n",
    "COLS_NAME = data.columns.values.tolist()\n",
    "data.columns = [idx for idx in range(len(COLS_NAME))]\n",
    "\n",
    "# 地区有两个-3的异常值 清洗\n",
    "#data = data[data[91] != -3]\n",
    "\n",
    "# 14题数据为1or2 因此全体-1 统一处理\n",
    "data.iloc[:,53:58] = data.iloc[:,53:58] - 1\n",
    "\n",
    "# 导出数据csv\n",
    "data.to_csv('./cooked.csv')\n",
    "with open('./COLS_NAME.dat', 'wb') as f:\n",
    "    pickle.dump(COLS_NAME, f)"
   ]
  }
 ],
 "metadata": {
  "kernelspec": {
   "name": "python3",
   "language": "python",
   "display_name": "Python 3"
  },
  "language_info": {
   "codemirror_mode": {
    "name": "ipython",
    "version": 2
   },
   "file_extension": ".py",
   "mimetype": "text/x-python",
   "name": "python",
   "nbconvert_exporter": "python",
   "pygments_lexer": "ipython2",
   "version": "3.9.4"
  },
  "metadata": {
   "interpreter": {
    "hash": "8eef4f11fdc106e9248655934e6a72dc1782c2a0ac6e772311e9a3a7e820e6d0"
   }
  }
 },
 "nbformat": 4,
 "nbformat_minor": 0
}