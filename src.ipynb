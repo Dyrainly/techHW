{
 "cells": [
  {
   "cell_type": "code",
   "execution_count": 1,
   "metadata": {},
   "outputs": [
    {
     "output_type": "stream",
     "name": "stderr",
     "text": [
      "/Users/peanutzhen/Desktop/projects/techHW/venv/lib/python3.9/site-packages/IPython/core/interactiveshell.py:3169: DtypeWarning: Columns (29) have mixed types.Specify dtype option on import or set low_memory=False.\n",
      "  has_raised = await self.run_ast_nodes(code_ast.body, cell_name,\n",
      "Total data: 800000\n"
     ]
    }
   ],
   "source": [
    "### 加载数据\n",
    "import pandas\n",
    "import pickle\n",
    "from pyecharts.charts import Bar\n",
    "from pyecharts import options as opts\n",
    "\n",
    "SAVE_DATA = False\n",
    "dataset = pandas.read_csv('dataset.csv')\n",
    "print(f'Total data: {dataset.shape[0]}')"
   ]
  },
  {
   "cell_type": "code",
   "execution_count": 3,
   "metadata": {
    "pycharm": {
     "name": "#%%\n"
    }
   },
   "outputs": [
    {
     "output_type": "stream",
     "name": "stdout",
     "text": [
      "Data cleaning completed！Total:\n750841\n"
     ]
    }
   ],
   "source": [
    "### 清洗数据\n",
    "\n",
    "# 洗掉不必要的列\n",
    "data = dataset.drop(\n",
    "    [\n",
    "        'Unnamed: 0',\n",
    "        '提交答卷时间',\n",
    "        '所用时间',\n",
    "        '来源',\n",
    "        '来源详情',\n",
    "        '来自IP',\n",
    "        '1、请问您的学校所在地区和类别：'\n",
    "    ],\n",
    "    axis=1\n",
    ")\n",
    "\n",
    "# 列名含义，接下来使用下标访问\n",
    "COLS_NAME = data.columns.values.tolist()\n",
    "data.columns = [idx for idx in range(len(COLS_NAME))]\n",
    "\n",
    "# 地区有两个-3的异常值 清洗\n",
    "data = data[data[91] != -3]\n",
    "\n",
    "# 14题数据为1or2 因此全体-1 统一处理\n",
    "data.iloc[:,53:58] = data.iloc[:,53:58] - 1\n",
    "\n",
    "# 线上学习时间有错误值及空值 0~15\n",
    "data = data[data[22].isin([x for x in range(16)])].astype(int)\n",
    "\n",
    "# 输出最后行数\n",
    "print(f'Data cleaning completed！Total:\\n{data.shape[0]}')"
   ]
  },
  {
   "cell_type": "code",
   "execution_count": 4,
   "metadata": {
    "pycharm": {
     "name": "#%%\n"
    }
   },
   "outputs": [],
   "source": [
    "# 导出数据csv\n",
    "if SAVE_DATA:\n",
    "    data.to_csv('./cooked.csv')\n",
    "    with open('./COLS_NAME.dat', 'wb') as f:\n",
    "        pickle.dump(COLS_NAME, f)"
   ]
  },
  {
   "cell_type": "code",
   "execution_count": 8,
   "metadata": {
    "pycharm": {
     "name": "#%%\n"
    }
   },
   "outputs": [
    {
     "output_type": "execute_result",
     "data": {
      "text/plain": [
       "<pyecharts.render.display.HTML at 0x11cd78fd0>"
      ],
      "text/html": "\n<script>\n    require.config({\n        paths: {\n            'echarts':'https://assets.pyecharts.org/assets/echarts.min'\n        }\n    });\n</script>\n\n        <div id=\"d8f6015a8f18449282bd57f6f6139eca\" style=\"width:900px; height:500px;\"></div>\n\n<script>\n        require(['echarts'], function(echarts) {\n                var chart_d8f6015a8f18449282bd57f6f6139eca = echarts.init(\n                    document.getElementById('d8f6015a8f18449282bd57f6f6139eca'), 'white', {renderer: 'canvas'});\n                var option_d8f6015a8f18449282bd57f6f6139eca = {\n    \"animation\": true,\n    \"animationThreshold\": 2000,\n    \"animationDuration\": 1000,\n    \"animationEasing\": \"cubicOut\",\n    \"animationDelay\": 0,\n    \"animationDurationUpdate\": 300,\n    \"animationEasingUpdate\": \"cubicOut\",\n    \"animationDelayUpdate\": 0,\n    \"color\": [\n        \"#c23531\",\n        \"#2f4554\",\n        \"#61a0a8\",\n        \"#d48265\",\n        \"#749f83\",\n        \"#ca8622\",\n        \"#bda29a\",\n        \"#6e7074\",\n        \"#546570\",\n        \"#c4ccd3\",\n        \"#f05b72\",\n        \"#ef5b9c\",\n        \"#f47920\",\n        \"#905a3d\",\n        \"#fab27b\",\n        \"#2a5caa\",\n        \"#444693\",\n        \"#726930\",\n        \"#b2d235\",\n        \"#6d8346\",\n        \"#ac6767\",\n        \"#1d953f\",\n        \"#6950a1\",\n        \"#918597\"\n    ],\n    \"series\": [\n        {\n            \"type\": \"bar\",\n            \"name\": \"\\u95ee\\u5377\\u4eba\\u6570\",\n            \"legendHoverLink\": true,\n            \"data\": [\n                64152,\n                64610,\n                65743,\n                71080,\n                75424,\n                75457,\n                74840,\n                70469,\n                66845,\n                46583,\n                41541,\n                34097\n            ],\n            \"showBackground\": false,\n            \"barMinHeight\": 0,\n            \"barCategoryGap\": \"20%\",\n            \"barGap\": \"30%\",\n            \"large\": false,\n            \"largeThreshold\": 400,\n            \"seriesLayoutBy\": \"column\",\n            \"datasetIndex\": 0,\n            \"clip\": true,\n            \"zlevel\": 0,\n            \"z\": 2,\n            \"label\": {\n                \"show\": true,\n                \"position\": \"top\",\n                \"margin\": 8\n            }\n        }\n    ],\n    \"legend\": [\n        {\n            \"data\": [\n                \"\\u95ee\\u5377\\u4eba\\u6570\"\n            ],\n            \"selected\": {\n                \"\\u95ee\\u5377\\u4eba\\u6570\": true\n            },\n            \"show\": true,\n            \"padding\": 5,\n            \"itemGap\": 10,\n            \"itemWidth\": 25,\n            \"itemHeight\": 14\n        }\n    ],\n    \"tooltip\": {\n        \"show\": true,\n        \"trigger\": \"item\",\n        \"triggerOn\": \"mousemove|click\",\n        \"axisPointer\": {\n            \"type\": \"line\"\n        },\n        \"showContent\": true,\n        \"alwaysShowContent\": false,\n        \"showDelay\": 0,\n        \"hideDelay\": 100,\n        \"textStyle\": {\n            \"fontSize\": 14\n        },\n        \"borderWidth\": 0,\n        \"padding\": 5\n    },\n    \"xAxis\": [\n        {\n            \"show\": true,\n            \"scale\": false,\n            \"nameLocation\": \"end\",\n            \"nameGap\": 15,\n            \"gridIndex\": 0,\n            \"inverse\": false,\n            \"offset\": 0,\n            \"splitNumber\": 5,\n            \"minInterval\": 0,\n            \"splitLine\": {\n                \"show\": false,\n                \"lineStyle\": {\n                    \"show\": true,\n                    \"width\": 1,\n                    \"opacity\": 1,\n                    \"curveness\": 0,\n                    \"type\": \"solid\"\n                }\n            },\n            \"data\": [\n                \"\\u4e00\\u5e74\\u7ea7\",\n                \"\\u4e8c\\u5e74\\u7ea7\",\n                \"\\u4e09\\u5e74\\u7ea7\",\n                \"\\u56db\\u5e74\\u7ea7\",\n                \"\\u4e94\\u5e74\\u7ea7\",\n                \"\\u516d\\u5e74\\u7ea7\",\n                \"\\u521d\\u4e00\",\n                \"\\u521d\\u4e8c\",\n                \"\\u521d\\u4e09\",\n                \"\\u9ad8\\u4e00\",\n                \"\\u9ad8\\u4e8c\",\n                \"\\u9ad8\\u4e09\"\n            ]\n        }\n    ],\n    \"yAxis\": [\n        {\n            \"show\": true,\n            \"scale\": false,\n            \"nameLocation\": \"end\",\n            \"nameGap\": 15,\n            \"gridIndex\": 0,\n            \"inverse\": false,\n            \"offset\": 0,\n            \"splitNumber\": 5,\n            \"minInterval\": 0,\n            \"splitLine\": {\n                \"show\": false,\n                \"lineStyle\": {\n                    \"show\": true,\n                    \"width\": 1,\n                    \"opacity\": 1,\n                    \"curveness\": 0,\n                    \"type\": \"solid\"\n                }\n            }\n        }\n    ],\n    \"title\": [\n        {\n            \"text\": \"\\u5b66\\u751f\\u7684\\u5e74\\u7ea7\\u5206\\u5e03\",\n            \"padding\": 5,\n            \"itemGap\": 10\n        }\n    ]\n};\n                chart_d8f6015a8f18449282bd57f6f6139eca.setOption(option_d8f6015a8f18449282bd57f6f6139eca);\n        });\n    </script>\n"
     },
     "metadata": {},
     "execution_count": 8
    }
   ],
   "source": [
    "# 分析参加调查的学生的年级分布（输出柱状图）\n",
    "res = [0 for _ in range(12)]\n",
    "for _, grade in data[1].items():\n",
    "    res[grade-1] = res[grade-1] + 1\n",
    "\n",
    "bar = (\n",
    "    Bar()\n",
    "    .add_xaxis([\"一年级\", \"二年级\", \"三年级\", \"四年级\", \"五年级\", \"六年级\", \"初一\", \"初二\", \"初三\", \"高一\", \"高二\", \"高三\"])\n",
    "    .add_yaxis(\"问卷人数\", res)\n",
    "    .set_global_opts(\n",
    "        title_opts=opts.TitleOpts(title=\"学生的年级分布\"),\n",
    "        legend_opts=opts.LegendOpts(is_show=True)\n",
    "    )\n",
    ")\n",
    "bar.render_notebook()"
   ]
  },
  {
   "cell_type": "code",
   "execution_count": null,
   "metadata": {},
   "outputs": [],
   "source": []
  }
 ],
 "metadata": {
  "kernelspec": {
   "name": "pythonjvsc74a57bd08eef4f11fdc106e9248655934e6a72dc1782c2a0ac6e772311e9a3a7e820e6d0",
   "display_name": "Python 3.9.4  ('venv': venv)"
  },
  "language_info": {
   "codemirror_mode": {
    "name": "ipython",
    "version": 3
   },
   "file_extension": ".py",
   "mimetype": "text/x-python",
   "name": "python",
   "nbconvert_exporter": "python",
   "pygments_lexer": "ipython3",
   "version": "3.9.4"
  },
  "metadata": {
   "interpreter": {
    "hash": "8eef4f11fdc106e9248655934e6a72dc1782c2a0ac6e772311e9a3a7e820e6d0"
   }
  }
 },
 "nbformat": 4,
 "nbformat_minor": 1
}