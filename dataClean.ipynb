{
 "cells": [
  {
   "cell_type": "code",
   "execution_count": null,
   "outputs": [],
   "source": [
    "import pandas\n",
    "import pickle\n",
    "import numpy\n",
    "from pyecharts.charts import Bar, Radar\n",
    "from pyecharts.charts import Pie\n",
    "from pyecharts import options as opts\n",
    "from pyecharts.commons.utils import JsCode\n",
    "from pyecharts.charts import Radar\n",
    "### 清洗数据\n",
    "# 洗掉不必要的列\n",
    "SAVE_DATA = False\n",
    "\n",
    "dataset = pandas.read_csv('dataset.csv')\n",
    "data = dataset.drop(\n",
    "    [\n",
    "        'Unnamed: 0',\n",
    "        '提交答卷时间',\n",
    "        '所用时间',\n",
    "        '来源',\n",
    "        '来源详情',\n",
    "        '来自IP',\n",
    "        '1、请问您的学校所在地区和类别：'\n",
    "    ],\n",
    "    axis=1\n",
    ")\n",
    "\n",
    "# 列名含义，接下来使用下标访问\n",
    "# 下标为整型int64 不是str!\n",
    "COLS_NAME = data.columns.values.tolist()\n",
    "data.columns = [idx for idx in range(len(COLS_NAME))]\n",
    "\n",
    "# 地区有两个-3的异常值 清洗\n",
    "data = data[data[91] != -3]\n",
    "\n",
    "# 14题数据为1or2 因此全体-1 统一处理\n",
    "data.iloc[:,53:58] = data.iloc[:,53:58] - 1\n",
    "\n",
    "# 线上学习时间有错误值及空值 0~15\n",
    "data = data[data[22].isin([x for x in range(16)])].astype(int)\n",
    "\n",
    "# 输出最后行数\n",
    "print(f'Data cleaning completed！Total:\\n{data.shape[0]}')\n",
    "NUMS = data.shape[0]"
   ],
   "metadata": {
    "collapsed": false,
    "pycharm": {
     "name": "#%%\n"
    }
   }
  },
  {
   "cell_type": "code",
   "execution_count": null,
   "outputs": [],
   "source": [
    "# 导出数据csv\n",
    "if SAVE_DATA:\n",
    "    data.to_csv('./cooked.csv')\n",
    "    with open('./COLS_NAME.dat', 'wb') as f:\n",
    "        pickle.dump(COLS_NAME, f)\n"
   ],
   "metadata": {
    "collapsed": false,
    "pycharm": {
     "name": "#%%\n"
    }
   }
  }
 ],
 "metadata": {
  "kernelspec": {
   "display_name": "Python 3",
   "language": "python",
   "name": "python3"
  },
  "language_info": {
   "codemirror_mode": {
    "name": "ipython",
    "version": 2
   },
   "file_extension": ".py",
   "mimetype": "text/x-python",
   "name": "python",
   "nbconvert_exporter": "python",
   "pygments_lexer": "ipython2",
   "version": "2.7.6"
  }
 },
 "nbformat": 4,
 "nbformat_minor": 0
}